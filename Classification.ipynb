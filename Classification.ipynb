{
 "cells": [
  {
   "cell_type": "code",
   "execution_count": 1,
   "id": "2dfd18cb-8796-4a7b-97c5-8c3807b95c1e",
   "metadata": {},
   "outputs": [],
   "source": [
    "%matplotlib inline"
   ]
  },
  {
   "cell_type": "code",
   "execution_count": 2,
   "id": "761d262b-4b09-473c-9345-3eeb1ebb113e",
   "metadata": {},
   "outputs": [],
   "source": [
    "import numpy as np\n",
    "import matplotlib.pyplot as plt"
   ]
  },
  {
   "cell_type": "markdown",
   "id": "bfefcfe1-48d5-4260-acf3-d15c5f3e7c22",
   "metadata": {},
   "source": [
    "\n",
    "<p style=\"text-align: center;\"><center><h1>Classification in Machine Learning</h1></center></p>\n"
   ]
  },
  {
   "cell_type": "markdown",
   "id": "49396b43-3a98-454b-8d47-8e90fce778b3",
   "metadata": {
    "tags": []
   },
   "source": [
    "<p style=\"text-align: center;\"><center><h3>Daniela Ashikova, email: d_ashi@abv.bg</h3> @danielaashikova </center> </p>"
   ]
  },
  {
   "cell_type": "markdown",
   "id": "bd76141d-3acb-4af0-92f4-5b058c23595f",
   "metadata": {},
   "source": [
    "### What is classification"
   ]
  },
  {
   "cell_type": "markdown",
   "id": "f696a1fc-b303-4b8a-8a37-5778d913c617",
   "metadata": {},
   "source": [
    "Classification is a supervised machine learning method where the model tries to predict the correct label of a given input data. In classification, the model is fully trained using the training data, and then it is evaluated on test data before being used to perform prediction on new unseen data.\n",
    "\n",
    "For instance, an algorithm can learn to predict whether a given email is spam or ham (no spam), as illustrated below. "
   ]
  },
  {
   "cell_type": "markdown",
   "id": "662bc4ae-d74c-47e8-84b0-183c4bf3d192",
   "metadata": {},
   "source": [
    "<p align=\"center\">\n",
    "<img src=\"https://res.cloudinary.com/dyd911kmh/image/upload/v1663850410/Machine_learning_classification_illustration_for_the_email_a993b8df37.png\" style=\"width:60%; border:0;\">\n",
    "</p>"
   ]
  },
  {
   "cell_type": "markdown",
   "id": "e2e227e2-a4f8-40ef-8553-4e353be9c014",
   "metadata": {},
   "source": [
    "##### What is supervised learning?"
   ]
  },
  {
   "cell_type": "markdown",
   "id": "7c937661-1b90-4502-b953-0c86a391072a",
   "metadata": {},
   "source": [
    "Supervised learning is an approach to creating artificial intelligence (AI), where a computer algorithm is trained on input data that has been labeled for a particular output. The model is trained until it can detect the underlying patterns and relationships between the input data and the output labels, enabling it to yield accurate labeling results when presented with never-before-seen data.\n",
    "\n",
    "Supervised learning is good at classification and regression problems, such as determining what category a news article belongs to or predicting the volume of sales for a given future date. In supervised learning, the aim is to make sense of data within the context of a specific question.\n",
    "\n",
    "How does supervised learning work?\n",
    "Like all machine learning algorithms, supervised learning is based on training. During its training phase, the system is fed with labeled data sets, which instruct the system what output is related to each specific input value. The trained model is then presented with test data: This is data that has been labeled, but the labels have not been revealed to the algorithm. The aim of the testing data is to measure how accurately the algorithm will perform on unlabeled data.\n",
    "\n",
    "Supervised vs. unsupervised learning\n",
    "The chief difference between unsupervised and supervised learning is in how the algorithm learns. In unsupervised learning, the algorithm is given unlabeled data as a training set. Unlike in supervised learning, there are no correct output values; the algorithm determines the patterns and similarities within the data, as opposed to relating it to some external measurement. In other words, algorithms are able to function freely in order to learn more about the data and find interesting or unexpected findings that human beings weren't looking for. Unsupervised learning is popular in applications of clustering (the act of uncovering groups within data) and association (the act of predicting rules that describe the data)."
   ]
  },
  {
   "cell_type": "markdown",
   "id": "2507732a-edaf-49ab-9cbc-8de0b90b6ace",
   "metadata": {},
   "source": [
    "<p align=\"center\">\n",
    "<img src = https://developer.ibm.com/developer/default/articles/cc-supervised-learning-models/images/figure01.png\n",
    "style=\"width:60%; border:0;\">\n",
    "</p>"
   ]
  },
  {
   "cell_type": "markdown",
   "id": "caf58f08-9d54-46d7-8894-911a9be5287f",
   "metadata": {},
   "source": [
    "One approach is to determine which category each piece of news belongs to, such as business, finance, technology or sports. To solve this problem, a supervised model would be the best fit.\n",
    "\n",
    "Humans would present the model with various news articles and their categories and have the model learn what kind of news belongs to each category. This way, the model becomes capable of recognizing the news category of any article it looks at based on its previous training experience.\n",
    "\n",
    "However, humans might also come to the conclusion that classifying news based on the predetermined categories is not sufficiently informative or flexible, as some news may talk about climate change technologies or the workforce problems in an industry. There are billions of news articles out there, and separating them into 40 or 50 categories may be an oversimplification. Instead, a better approach would be to find the similarities between the news articles and group the news accordingly. That would be looking at news clusters instead, where similar articles would be grouped together. There are no specific categories anymore.\n",
    "\n",
    "This is what unsupervised learning achieves: It determines the patterns and similarities within the data, as opposed to relating it to some external measurement."
   ]
  },
  {
   "cell_type": "markdown",
   "id": "5eddb6d3-4d1d-423e-a872-24c5c6628b13",
   "metadata": {},
   "source": [
    "### What is regression? What is classification?"
   ]
  },
  {
   "cell_type": "markdown",
   "id": "9108dd10-50d6-4b3f-8147-f4ec31b02c06",
   "metadata": {},
   "source": [
    " - Regression in Machine Learning Explained Regression finds correlations between dependent and independent variables. Therefore, regression algorithms help predict continuous variables such as house prices, market trends, weather patterns, oil and gas prices (a critical task these days!), etc.\n",
    "\n",
    "The Regression algorithm’s task is finding the mapping function so we can map the input variable of “x” to the continuous output variable of “y.”\n",
    "\n",
    "- On the other hand, Classification is an algorithm that finds functions that help divide the dataset into classes based on various parameters. When using a Classification algorithm, a computer program gets taught on the training dataset and categorizes the data into various categories depending on what it learned.\n",
    "\n",
    "Classification algorithms find the mapping function to map the “x” input to “y” discrete output. The algorithms estimate discrete values (in other words, binary values such as 0 and 1, yes and no, true or false, based on a particular set of independent variables. To put it another, more straightforward way, classification algorithms predict an event occurrence probability by fitting data to a logit function.\n",
    "\n",
    "Classification algorithms are used for things like email and spam classification, predicting the willingness of bank customers to pay their loans, and identifying cancer tumor cells."
   ]
  },
  {
   "cell_type": "markdown",
   "id": "dc22bd12-288f-4e98-9292-b103b39e645c",
   "metadata": {},
   "source": [
    "**Types of Regression**\\\n",
    "Here are the types of Regression algorithms commonly found in the Machine Learning field:\n",
    "\n",
    "- Decision Tree Regression: The primary purpose of this regression is to divide the dataset into smaller subsets. These subsets are created to plot the value of any data point connecting to the problem statement.\n",
    "Principal Components Regression: This regression technique is widely used. There are many independent variables, or multicollinearity exists in your data.\n",
    "- Polynomial Regression: This type fits a non-linear equation by using the polynomial functions of an independent variable.\n",
    "- Random Forest Regression: Random Forest regression is heavily used in Machine Learning. It uses multiple decision trees to predict the output. Random data points are chosen from the given dataset and used to build a decision tree via this algorithm.\n",
    "- Simple Linear Regression: This type is the least complicated form of regression, where the dependent variable is continuous.\n",
    "- Support Vector Regression: This regression type solves both linear and non-linear models. It uses non-linear kernel functions, like polynomials, to find an optimal solution for non-linear models."
   ]
  },
  {
   "cell_type": "markdown",
   "id": "8037bbd3-6819-4d71-806c-a4049fe12576",
   "metadata": {},
   "source": [
    "**Types of Classification**\\\n",
    "And here are the types of Classification algorithms typically used in Machine Learning:"
   ]
  },
  {
   "cell_type": "markdown",
   "id": "0cbcd710-3f7d-4157-99cc-cd9d43250296",
   "metadata": {},
   "source": [
    "- Decision Tree Classification: This type divides a dataset into segments based on particular feature variables. The divisions’ threshold values are typically the mean or mode of the feature variable in question if they happen to be numerical.\n",
    "- K-Nearest Neighbors: This Classification type identifies the K nearest neighbors to a given observation point. It then uses K points to evaluate the proportions of each type of target variable and predicts the target variable that has the highest ratio.\n",
    "- Logistic Regression: This classification type isn't complex so it can be easily adopted with minimal training. It predicts the probability of Y being associated with the X input variable.\n",
    "- Naïve Bayes: This classifier is one of the most effective yet simplest algorithms. It’s based on Bayes’ theorem, which describes how event probability is evaluated based on the previous knowledge of conditions that could be related to the event.\n",
    "- Random Forest Classification: Random forest processes many decision trees, each one predicting a value for target variable probability. You then arrive at the final output by averaging the probabilities. \n",
    "- Support Vector Machines: This algorithm employs support vector classifiers with an exciting change, making it ideal for evaluating non-linear decision boundaries. This process is possible by enlarging feature variable space by employing special functions known as kernels. "
   ]
  },
  {
   "cell_type": "markdown",
   "id": "70193953-4cc9-4ff7-9d68-a2b3b848edc0",
   "metadata": {},
   "source": [
    "The Difference Between Regression vs. Classification"
   ]
  },
  {
   "cell_type": "markdown",
   "id": "9b74683e-906c-4db7-b55a-1a61a11547ca",
   "metadata": {},
   "source": [
    "<p align=\"center\">\n",
    "<img src = https://www.simplilearn.com/ice9/free_resources_article_thumb/Regression_vs_Classification.jpg \n",
    "style=\"width:60%; border:0;\">\n",
    "</p>"
   ]
  },
  {
   "cell_type": "markdown",
   "id": "5aa0442a-4e1c-4534-a3c2-3e653d36b678",
   "metadata": {},
   "source": [
    "### Types of Classification Tasks in Machine Learning"
   ]
  },
  {
   "cell_type": "markdown",
   "id": "44a4d0fd-e3b2-4631-b3ed-e4853cc973e5",
   "metadata": {},
   "source": [
    "**1. Classification Predictive Modeling**\n",
    "In machine learning, classification refers to a predictive modeling problem where a class label is predicted for a given example of input data.\n",
    "\n",
    "Examples of classification problems include:\n",
    "\n",
    "Given an example, classify if it is spam or not.\n",
    "Given a handwritten character, classify it as one of the known characters.\n",
    "Given recent user behavior, classify as churn or not.\n",
    "From a modeling perspective, classification requires a training dataset with many examples of inputs and outputs from which to learn.\n",
    "\n",
    "A model will use the training dataset and will calculate how to best map examples of input data to specific class labels. As such, the training dataset must be sufficiently representative of the problem and have many examples of each class label.\n",
    "\n",
    "Class labels are often string values, e.g. “spam,” “not spam,” and must be mapped to numeric values before being provided to an algorithm for modeling. This is often referred to as label encoding, where a unique integer is assigned to each class label, e.g. “spam” = 0, “no spam” = 1."
   ]
  },
  {
   "cell_type": "markdown",
   "id": "c5a4995c-5183-4cbf-930a-81fe2219bac8",
   "metadata": {},
   "source": [
    "**2. Binary Classification**\\\n",
    "Binary classification refers to those classification tasks that have two class labels.\n",
    "\n",
    "Examples include:\n",
    "\n",
    "Email spam detection (spam or not). Churn prediction (churn or not). Conversion prediction (buy or not). Typically, binary classification tasks involve one class that is the normal state and another class that is the abnormal state.\n",
    "\n",
    "For example “not spam” is the normal state and “spam” is the abnormal state. Another example is “cancer not detected” is the normal state of a task that involves a medical test and “cancer detected” is the abnormal state.\n",
    "\n",
    "The class for the normal state is assigned the class label 0 and the class with the abnormal state is assigned the class label 1.\n",
    "\n",
    "    It is common to model a binary classification task with a model that predicts a Bernoulli probability distribution for each example.\n",
    "\n",
    "    The Bernoulli distribution is a discrete probability distribution that covers a case where an event will have a binary outcome as either a 0 or 1. For classification, this means that the model predicts a probability of an example belonging to class 1, or the abnormal state."
   ]
  },
  {
   "cell_type": "markdown",
   "id": "24f2e7fc-0b2b-43c2-8615-1904f310c745",
   "metadata": {},
   "source": [
    "Popular algorithms that can be used for binary classification include:\n",
    "\n",
    "- Logistic Regression\n",
    "- k-Nearest Neighbors\n",
    "- Decision Trees\n",
    "- Support Vector Machine\n",
    "- Naive Bayes\n",
    "\n",
    "Some algorithms are specifically designed for binary classification and do not natively support more than two classes; examples include Logistic Regression and Support Vector Machines.\n",
    "\n",
    "    Next, let’s take a closer look at a dataset to develop an intuition for binary classification problems.\n",
    "\n",
    "    We can use the make_blobs() function to generate a synthetic binary classification dataset.\n",
    "    The example below generates a dataset with 1,000 examples that belong to one of two classes, each with two input features."
   ]
  },
  {
   "cell_type": "code",
   "execution_count": 3,
   "id": "aca5afee-dfaf-4b9d-b55c-99087157e767",
   "metadata": {},
   "outputs": [
    {
     "name": "stdout",
     "output_type": "stream",
     "text": [
      "(1000, 2) (1000,)\n",
      "Counter({0: 500, 1: 500})\n",
      "[-3.05837272  4.48825769] 0\n",
      "[-8.60973869 -3.72714879] 1\n",
      "[1.37129721 5.23107449] 0\n",
      "[-9.33917563 -2.9544469 ] 1\n",
      "[-11.57178593  -3.85275513] 1\n",
      "[-11.42257341  -4.85679127] 1\n",
      "[-10.44518578  -3.76476563] 1\n",
      "[-10.44603561  -3.26065964] 1\n",
      "[-0.61947075  3.48804983] 0\n",
      "[-10.91115591  -4.5772537 ] 1\n"
     ]
    },
    {
     "data": {
      "image/png": "[encoded data removed]",
      "text/plain": [
       "<Figure size 640x480 with 1 Axes>"
      ]
     },
     "metadata": {},
     "output_type": "display_data"
    }
   ],
   "source": [
    "# example of binary classification task\n",
    "from numpy import where\n",
    "from collections import Counter\n",
    "from sklearn.datasets import make_blobs\n",
    "from matplotlib import pyplot\n",
    "# define dataset\n",
    "X, y = make_blobs(n_samples=1000, centers=2, random_state=1)\n",
    "# summarize dataset shape\n",
    "print(X.shape, y.shape)\n",
    "# summarize observations by class label\n",
    "counter = Counter(y)\n",
    "print(counter)\n",
    "# summarize first few examples\n",
    "for i in range(10):\n",
    "    print(X[i], y[i])\n",
    "# plot the dataset and color the by class label\n",
    "for label, _ in counter.items():\n",
    "    row_ix = where(y == label)[0]\n",
    "    pyplot.scatter(X[row_ix, 0], X[row_ix, 1], label=str(label))\n",
    "pyplot.legend()\n",
    "pyplot.show()"
   ]
  },
  {
   "cell_type": "markdown",
   "id": "f3fe15e9-96d6-4348-bbf1-f7e42435b0f7",
   "metadata": {},
   "source": [
    "    Running the example first summarizes the created dataset showing the 1,000 examples divided into input (X) and output (y) elements.\n",
    "\n",
    "    The distribution of the class labels is then summarized, showing that instances belong to either class 0 or class 1 and that there are 500 examples in each class.\n",
    "    \n",
    "    Next, the first 10 examples in the dataset are summarized, showing the input values are numeric and the target values are integers that represent the class membership. Finally, a scatter plot is created for the input variables in the dataset and the points are colored based on their class value"
   ]
  },
  {
   "cell_type": "markdown",
   "id": "80687ec0-41e3-4afa-ad03-3ba80ae4ca17",
   "metadata": {},
   "source": [
    "**3. Multi-Class Classification**"
   ]
  },
  {
   "cell_type": "markdown",
   "id": "d3afcd4c-14d7-49c2-929a-9e3e64bc118a",
   "metadata": {},
   "source": [
    "Multi-class classification refers to those classification tasks that have more than two class labels.\n",
    "\n",
    "Examples include:\n",
    "\n",
    "Face classification.\n",
    "Plant species classification.\n",
    "Optical character recognition.\n",
    "\n",
    "Unlike binary classification, multi-class classification does not have the notion of normal and abnormal outcomes. Instead, examples are classified as belonging to one among a range of known classes.\n",
    "\n",
    "The number of class labels may be very large on some problems. For example, a model may predict a photo as belonging to one among thousands or tens of thousands of faces in a face recognition system.\n",
    "\n",
    "Problems that involve predicting a sequence of words, such as text translation models, may also be considered a special type of multi-class classification. Each word in the sequence of words to be predicted involves a multi-class classification where the size of the vocabulary defines the number of possible classes that may be predicted and could be tens or hundreds of thousands of words in size.\n",
    "\n",
    "It is common to model a multi-class classification task with a model that predicts a Multinoulli probability distribution for each example.\n",
    "\n",
    "The Multinoulli distribution is a discrete probability distribution that covers a case where an event will have a categorical outcome, e.g. K in {1, 2, 3, …, K}. For classification, this means that the model predicts the probability of an example belonging to each class label.\n",
    "\n",
    "Many algorithms used for binary classification can be used for multi-class classification.\n",
    "\n",
    "Popular algorithms that can be used for multi-class classification include:\n",
    "\n",
    "k-Nearest Neighbors.\\\n",
    "Decision Trees.\\\n",
    "Naïve Bayes.\\\n",
    "Random Forest.\\\n",
    "Gradient Boosting.\n",
    "\n",
    "Algorithms that are designed for binary classification can be adapted for use for multi-class problems.\n",
    "\n",
    "This involves using a strategy of fitting multiple binary classification models for each class vs. all other classes (called one-vs-rest) or one model for each pair of classes (called one-vs-one).\n",
    "\n",
    "One-vs-Rest: Fit one binary classification model for each class vs. all other classes.\n",
    "One-vs-One: Fit one binary classification model for each pair of classes.\n",
    "Binary classification algorithms that can use these strategies for multi-class classification include:\n",
    "\n",
    "Logistic Regression.\\\n",
    "Support Vector Machine.\n",
    "\n",
    "    Next, let’s take a closer look at a dataset to develop an intuition for multi-class classification problems.\n",
    "\n",
    "    We can use the make_blobs() function to generate a synthetic multi-class classification dataset.\n",
    "\n",
    "    The example below generates a dataset with 1,000 examples that belong to one of three classes, each with two input features."
   ]
  },
  {
   "cell_type": "code",
   "execution_count": 4,
   "id": "e41c9f58-9191-4891-bb00-7b58973f3697",
   "metadata": {},
   "outputs": [
    {
     "name": "stdout",
     "output_type": "stream",
     "text": [
      "(1000, 2) (1000,)\n",
      "Counter({0: 334, 1: 333, 2: 333})\n",
      "[-3.05837272  4.48825769] 0\n",
      "[-8.60973869 -3.72714879] 1\n",
      "[1.37129721 5.23107449] 0\n",
      "[-9.33917563 -2.9544469 ] 1\n",
      "[-8.63895561 -8.05263469] 2\n",
      "[-8.48974309 -9.05667083] 2\n",
      "[-7.51235546 -7.96464519] 2\n",
      "[-7.51320529 -7.46053919] 2\n",
      "[-0.61947075  3.48804983] 0\n",
      "[-10.91115591  -4.5772537 ] 1\n"
     ]
    },
    {
     "data": {
      "image/png": "[encoded data removed]",
      "text/plain": [
       "<Figure size 640x480 with 1 Axes>"
      ]
     },
     "metadata": {},
     "output_type": "display_data"
    }
   ],
   "source": [
    "# example of multi-class classification task\n",
    "from numpy import where\n",
    "from collections import Counter\n",
    "from sklearn.datasets import make_blobs\n",
    "from matplotlib import pyplot\n",
    "# define dataset\n",
    "X, y = make_blobs(n_samples=1000, centers=3, random_state=1)\n",
    "# summarize dataset shape\n",
    "print(X.shape, y.shape)\n",
    "# summarize observations by class label\n",
    "counter = Counter(y)\n",
    "print(counter)\n",
    "# summarize first few examples\n",
    "for i in range(10):\n",
    "    print(X[i], y[i])\n",
    "# plot the dataset and color the by class label\n",
    "for label, _ in counter.items(): \n",
    "    row_ix = where(y == label)[0]\n",
    "    pyplot.scatter(X[row_ix, 0], X[row_ix, 1], label=str(label))\n",
    "pyplot.legend()\n",
    "pyplot.show()"
   ]
  },
  {
   "cell_type": "markdown",
   "id": "c6ee093e-3bca-4a0d-ac18-b3ca6034a4e3",
   "metadata": {},
   "source": [
    "    Running the example first summarizes the created dataset showing the 1,000 examples divided into input (X) and output (y) elements.\n",
    "\n",
    "    The distribution of the class labels is then summarized, showing that instances belong to class 0, class 1, or class 2 and that there are approximately 333 examples in each class.\n",
    "\n",
    "    Next, the first 10 examples in the dataset are summarized showing the input values are numeric and the target values are integers that represent the class membership.\n",
    "\n",
    "    Finally, a scatter plot is created for the input variables in the dataset and the points are colored based on their class value.\n",
    "\n",
    "    We can see three distinct clusters that we might expect would be easy to discriminate."
   ]
  },
  {
   "cell_type": "markdown",
   "id": "dacb9edf-536f-4e22-870c-97aca349d371",
   "metadata": {},
   "source": [
    "**4. Multi-Label Classification**"
   ]
  },
  {
   "cell_type": "markdown",
   "id": "8f8bbaed-e43d-41fc-b667-a745d623b988",
   "metadata": {},
   "source": [
    "Multi-label classification refers to those classification tasks that have two or more class labels, where one or more class labels may be predicted for each example.\n",
    "\n",
    "Consider the example of photo classification, where a given photo may have multiple objects in the scene and a model may predict the presence of multiple known objects in the photo, such as “bicycle,” “apple,” “person,” etc.\n",
    "\n",
    "This is unlike binary classification and multi-class classification, where a single class label is predicted for each example.\n",
    "\n",
    "It is common to model multi-label classification tasks with a model that predicts multiple outputs, with each output taking predicted as a Bernoulli probability distribution. This is essentially a model that makes multiple binary classification predictions for each example.\n",
    "\n",
    "Classification algorithms used for binary or multi-class classification cannot be used directly for multi-label classification. Specialized versions of standard classification algorithms can be used, so-called multi-label versions of the algorithms, including:\n",
    "\n",
    "Multi-label Decision Trees Multi-label Random Forests Multi-label Gradient Boosting Another approach is to use a separate classification algorithm to predict the labels for each class.\n",
    "\n",
    "    Next, let’s take a closer look at a dataset to develop an intuition for multi-label classification problems.\n",
    "\n",
    "    We can use the make_multilabel_classification() function to generate a synthetic multi-label classification dataset.\n",
    "\n",
    "    The example below generates a dataset with 1,000 examples, each with two input features. There are three classes, each of which may take on one of two labels (0 or 1)."
   ]
  },
  {
   "cell_type": "code",
   "execution_count": 5,
   "id": "3bc02739-7c1e-4e7e-843c-2de3566a0b45",
   "metadata": {},
   "outputs": [
    {
     "name": "stdout",
     "output_type": "stream",
     "text": [
      "(1000, 2) (1000, 3)\n",
      "[18. 35.] [1 1 1]\n",
      "[22. 33.] [1 1 1]\n",
      "[26. 36.] [1 1 1]\n",
      "[24. 28.] [1 1 0]\n",
      "[23. 27.] [1 1 0]\n",
      "[15. 31.] [0 1 0]\n",
      "[20. 37.] [0 1 0]\n",
      "[18. 31.] [1 1 1]\n",
      "[29. 27.] [1 0 0]\n",
      "[29. 28.] [1 1 0]\n"
     ]
    }
   ],
   "source": [
    "# example of a multi-label classification task\n",
    "from sklearn.datasets import make_multilabel_classification\n",
    "# define dataset\n",
    "X, y = make_multilabel_classification(n_samples=1000, n_features=2, n_classes=3, n_labels=2, random_state=1)\n",
    "# summarize dataset shape\n",
    "print(X.shape, y.shape)\n",
    "# summarize first few examples\n",
    "for i in range(10):\n",
    "    print(X[i], y[i])"
   ]
  },
  {
   "cell_type": "markdown",
   "id": "83b907fb-f4d9-4d5b-aa83-eefaf02e9609",
   "metadata": {},
   "source": [
    "**5. Imbalanced Classification**"
   ]
  },
  {
   "cell_type": "markdown",
   "id": "00eb2810-8ebb-403d-9c9d-147b85b57400",
   "metadata": {},
   "source": [
    "Imbalanced classification refers to classification tasks where the number of examples in each class is unequally distributed.\n",
    "\n",
    "Typically, imbalanced classification tasks are binary classification tasks where the majority of examples in the training dataset belong to the normal class and a minority of examples belong to the abnormal class.\n",
    "\n",
    "Examples include:\n",
    "\n",
    "- Fraud detection. \n",
    "- Outlier detection. \n",
    "- Medical diagnostic tests. \n",
    "\n",
    "These problems are modeled as binary classification tasks, although may require specialized techniques.\n",
    "\n",
    "Specialized techniques may be used to change the composition of samples in the training dataset by undersampling the majority class or oversampling the minority class.\n",
    "\n",
    "Examples include:\n",
    "\n",
    "- Random Undersampling. \n",
    "- SMOTE Oversampling. \n",
    "\n",
    "    Random Resampling Imbalanced Datasets\n",
    "    \n",
    "Resampling involves creating a new transformed version of the training dataset in which the selected examples have a different class distribution.\n",
    "\n",
    "This is a simple and effective strategy for imbalanced classification problems.\n",
    "The simplest strategy is to choose examples for the transformed dataset randomly, called random resampling.\n",
    "\n",
    "There are two main approaches to random resampling for imbalanced classification; they are oversampling and undersampling.\n",
    "\n",
    " * Random Oversampling: Randomly duplicate examples in the minority class.\n",
    " * Random Undersampling: Randomly delete examples in the majority class.\n",
    "\n",
    "Random oversampling involves randomly selecting examples from the minority class, with replacement, and adding them to the training dataset. Random undersampling involves randomly selecting examples from the majority class and deleting them from the training dataset.    \n",
    "Both approaches can be repeated until the desired class distribution is achieved in the training dataset, such as an equal split across the classes.\n",
    "\n",
    "They are referred to as “naive resampling” methods because they assume nothing about the data and no heuristics are used. This makes them simple to implement and fast to execute, which is desirable for very large and complex datasets.\n",
    "\n",
    "Both techniques can be used for two-class (binary) classification problems and multi-class classification problems with one or more majority or minority classes.\n",
    "\n",
    "Importantly, the change to the class distribution is only applied to the training dataset. The intent is to influence the fit of the models. The resampling is not applied to the test or holdout dataset used to evaluate the performance of a model.\n",
    "\n",
    "Generally, these naive methods can be effective, although that depends on the specifics of the dataset and models involved.   \n",
    "\n",
    "- SMOTE Oversampling.(Synthetic Minority Oversampling Technique)\n",
    "   \n",
    "One approach to addressing imbalanced datasets is to oversample the minority class. The simplest approach involves duplicating examples in the minority class, although these examples don’t add any new information to the model. Instead, new examples can be synthesized from the existing examples. This is a type of data augmentation for the minority class and is referred to as the SMOTE.\n",
    "\n",
    "SMOTE works by selecting examples that are close in the feature space, drawing a line between the examples in the feature space and drawing a new sample at a point along that line.\n",
    "\n",
    "\n",
    "Specialized modeling algorithms may be used that pay more attention to the minority class when fitting the model on the training dataset, such as cost-sensitive machine learning algorithms.\n",
    "\n",
    "Examples include:\n",
    "\n",
    "- Cost-sensitive Logistic Regression. \n",
    "- Cost-sensitive Decision Trees. \n",
    "- Cost-sensitive Support Vector Machines. \n",
    "    \n",
    "    Finally, alternative performance metrics may be required as reporting the classification accuracy may be misleading.\n",
    "\n",
    "Examples include:\n",
    "\n",
    "- Precision. \n",
    "- Recall. \n",
    "- F-Measure. "
   ]
  },
  {
   "cell_type": "markdown",
   "id": "de803b6a-ca21-482a-8447-3edd6bb612a2",
   "metadata": {},
   "source": [
    "    Next, let’s take a closer look at a dataset to develop an intuition for imbalanced classification problems.\n",
    "\n",
    "    We can use the make_classification() function to generate a synthetic imbalanced binary classification dataset.\n",
    "\n",
    "    The example below generates a dataset with 1,000 examples that belong to one of two classes, each with two input features."
   ]
  },
  {
   "cell_type": "code",
   "execution_count": 6,
   "id": "90d85c6c-5487-4baa-9e51-82eb79418b99",
   "metadata": {},
   "outputs": [
    {
     "name": "stdout",
     "output_type": "stream",
     "text": [
      "(1000, 2) (1000,)\n",
      "Counter({0: 983, 1: 17})\n",
      "[0.86924745 1.18613612] 0\n",
      "[1.55110839 1.81032905] 0\n",
      "[1.29361936 1.01094607] 0\n",
      "[1.11988947 1.63251786] 0\n",
      "[1.04235568 1.12152929] 0\n",
      "[1.18114858 0.92397607] 0\n",
      "[1.1365562  1.17652556] 0\n",
      "[0.46291729 0.72924998] 0\n",
      "[0.18315826 1.07141766] 0\n",
      "[0.32411648 0.53515376] 0\n"
     ]
    },
    {
     "data": {
      "image/png": "[encoded data removed]",
      "text/plain": [
       "<Figure size 640x480 with 1 Axes>"
      ]
     },
     "metadata": {},
     "output_type": "display_data"
    }
   ],
   "source": [
    "# example of an imbalanced binary classification task\n",
    "from numpy import where\n",
    "from collections import Counter\n",
    "from sklearn.datasets import make_classification\n",
    "from matplotlib import pyplot\n",
    "# define dataset\n",
    "X, y = make_classification(n_samples=1000, n_features=2, n_informative=2, n_redundant=0, n_classes=2, n_clusters_per_class=1, weights=[0.99,0.01], random_state=1)\n",
    "# summarize dataset shape\n",
    "print(X.shape, y.shape)\n",
    "# summarize observations by class label\n",
    "counter = Counter(y)\n",
    "print(counter)\n",
    "# summarize first few examples\n",
    "for i in range(10):\n",
    "    print(X[i], y[i])\n",
    "# plot the dataset and color the by class label\n",
    "for label, _ in counter.items():\n",
    "    row_ix = where(y == label)[0]\n",
    "    pyplot.scatter(X[row_ix, 0], X[row_ix, 1], label=str(label))\n",
    "pyplot.legend()\n",
    "pyplot.show()"
   ]
  },
  {
   "cell_type": "markdown",
   "id": "f1111aaf-ce0e-4b0e-a52b-1cf1432f1458",
   "metadata": {},
   "source": [
    "    Running the example first summarizes the created dataset showing the 1,000 examples divided into input (X) and output (y) elements.\n",
    "\n",
    "    The distribution of the class labels is then summarized, showing the severe class imbalance with about 980 examples belonging to class 0 and about 20 examples belonging to class 1.\n",
    "\n",
    "    Next, the first 10 examples in the dataset are summarized showing the input values are numeric and the target values are integers that represent the class membership. In this case, we can see that most examples belong to class 0, as we expect.\n",
    "\n",
    "    Finally, a scatter plot is created for the input variables in the dataset and the points are colored based on their class value.\n",
    "\n",
    "    We can see one main cluster for examples that belong to class 0 and a few scattered examples that belong to class 1. The intuition is that datasets with this property of imbalanced class labels are more challenging to model."
   ]
  },
  {
   "cell_type": "markdown",
   "id": "41da4ebf-68aa-479a-87c5-a25972eb8250",
   "metadata": {},
   "source": [
    "### Types of Classification Algorithms in Machine Learning"
   ]
  },
  {
   "cell_type": "markdown",
   "id": "573f47bb-09e1-44af-922a-12a1f334b5ec",
   "metadata": {},
   "source": [
    "Classification algorithms in machine learning use input training data to predict the likelihood that subsequent data will fall into one of the predetermined categories. In short, classification is a form of “pattern recognition,” with classification algorithms applied to the training data to find the same pattern (similar words or sentiments, number sequences, etc.) in future sets of data."
   ]
  },
  {
   "cell_type": "markdown",
   "id": "e58d0540-0034-41d6-aae9-a20885901f22",
   "metadata": {},
   "source": [
    "**1.Linear regression**"
   ]
  },
  {
   "cell_type": "markdown",
   "id": "1d64a731-9557-403d-b0bb-bd2bcecb3c55",
   "metadata": {},
   "source": [
    "Linear regression is one of the easiest and most popular Machine Learning algorithms. It is a statistical method that is used for predictive analysis. Linear regression makes predictions for continuous/real or numeric variables such as sales, salary, age, product price, etc.\n",
    "\n",
    "Linear regression algorithm shows a linear relationship between a dependent (y) and one or more independent (y) variables, hence called as linear regression. Since linear regression shows the linear relationship, which means it finds how the value of the dependent variable is changing according to the value of the independent variable.\n",
    "\n",
    "The linear regression model provides a sloped straight line representing the relationship between the variables."
   ]
  },
  {
   "cell_type": "markdown",
   "id": "52f2bd31-96e1-4d7f-bef3-e26531bc3446",
   "metadata": {},
   "source": [
    "<p align=\"center\">\n",
    "<img src = https://static.javatpoint.com/tutorial/machine-learning/images/linear-regression-in-machine-learning.png\n",
    "style=\"width:40%; border:0;\">\n",
    "</p>"
   ]
  },
  {
   "cell_type": "markdown",
   "id": "eec3b7cc-0973-4122-b49d-21d2e02e2203",
   "metadata": {},
   "source": [
    "Mathematically, we can represent a linear regression as:"
   ]
  },
  {
   "cell_type": "markdown",
   "id": "cb7e62d3-51a1-4999-b454-64b834ceee5f",
   "metadata": {},
   "source": [
    "$$ y= a_0+a_1x+ \\varepsilon $$\n",
    "\n",
    "$ y = Dependent \\; Variable \\; (Target\\; Variable) $ \\\n",
    "$ x = Independent \\; Variable \\; (predictor \\; Variable) $ \\\n",
    "$ a_0 = intercept \\; of \\; the \\; line \\; (Gives \\; an \\;additional \\; degree \\; of \\; freedom) $ \\\n",
    "$ a_1 = Linear \\; regression \\;coefficient \\; (scale \\;factor \\; to \\; each \\; input \\; value) $ \\\n",
    "$ \\varepsilon = random \\;error $"
   ]
  },
  {
   "cell_type": "markdown",
   "id": "85ef67f0-d81e-4da2-9fec-b8644be3f733",
   "metadata": {},
   "source": [
    "**2. Logistic Regression**"
   ]
  },
  {
   "cell_type": "markdown",
   "id": "bd883750-c630-4e36-87ed-cb677f2fc39e",
   "metadata": {},
   "source": [
    "Logistic regression is a calculation used to predict a binary outcome: either something happens, or does not. This can be exhibited as Yes/No, Pass/Fail, Alive/Dead, etc. \n",
    "\n",
    "Independent variables are analyzed to determine the binary outcome with the results falling into one of two categories. The independent variables can be categorical or numeric, but the dependent variable is always categorical. Written like this:\n",
    "\n",
    "$$ P(Y=1 \\vert X)  or  P(Y=0 \\vert X) $$\n",
    "\n",
    "It calculates the probability of dependent variable Y, given independent variable X. \n",
    "\n",
    "This can be used to calculate the probability of a word having a positive or negative connotation (0, 1, or on a scale between). Or it can be used to determine the object contained in a photo (tree, flower, grass, etc.), with each object given a probability between 0 and 1. "
   ]
  },
  {
   "cell_type": "markdown",
   "id": "e141bcef-0938-4571-bd89-c0bdd6c48ffe",
   "metadata": {},
   "source": [
    "<p align=\"center\">\n",
    "<img src = https://upload.wikimedia.org/wikipedia/commons/thumb/c/cb/Exam_pass_logistic_curve.svg/600px-Exam_pass_logistic_curve.svg.png \n",
    "style=\"width:40%; border:0;\">\n",
    "</p>"
   ]
  },
  {
   "cell_type": "markdown",
   "id": "d38743c0-1149-4916-b05d-0190b40cfb98",
   "metadata": {},
   "source": [
    "Graph of a logistic regression curve fitted to the (xm,ym) data. The curve shows the probability of passing an exam versus hours studying."
   ]
  },
  {
   "cell_type": "markdown",
   "id": "78bb1f81-239b-4700-b96c-043ef198b6e9",
   "metadata": {},
   "source": [
    "**3. Naïve Bayes**"
   ]
  },
  {
   "cell_type": "markdown",
   "id": "dc3b21d8-ed62-4712-b524-f381701df90b",
   "metadata": {},
   "source": [
    "Naïve Bayes calculates the possibility of whether a data point belongs within a certain category or does not. In text analysis, it can be used to categorize words or phrases as belonging to a preset “tag” (classification) or not."
   ]
  },
  {
   "cell_type": "markdown",
   "id": "423f6465-4184-4963-90be-9e6a3d9c17e7",
   "metadata": {},
   "source": [
    "For example:"
   ]
  },
  {
   "cell_type": "markdown",
   "id": "3d847fcb-0cb2-4c4b-b34b-8ab07b0bb8ee",
   "metadata": {},
   "source": [
    "| Text                            | Tag      |\n",
    "|---------------------------------|----------|\n",
    "| \"A great game\"                  | sport    | \n",
    "| \"The election was over\"         | not sport| \n",
    "| \"Very clean match\"              | sport    | \n",
    "| \"A clean, but forgettable game\" | sport    | \n",
    "| \"It was a close election\"       | not sport| "
   ]
  },
  {
   "cell_type": "markdown",
   "id": "ec4bbcab-89a7-4fbe-811c-ea66542a6e81",
   "metadata": {},
   "source": [
    "To decide whether or not a phrase should be tagged as “sports,” you need to calculate:"
   ]
  },
  {
   "cell_type": "markdown",
   "id": "286b36af-d1f4-4762-b040-a6e23ead790e",
   "metadata": {},
   "source": [
    "$$ P(A \\vert B) =  \\frac{ P(B \\vert A) \\times P(A)} {P(B)} $$"
   ]
  },
  {
   "cell_type": "markdown",
   "id": "693748d4-0755-4f6f-89e0-282446f18e9b",
   "metadata": {},
   "source": [
    "Or… the probability of A, if B is true, is equal to the probability of B, if A is true, times the probability of A being true, divided by the probability of B being true."
   ]
  },
  {
   "cell_type": "markdown",
   "id": "cd41743f-9b64-4f8c-9c54-c882d2c47ba0",
   "metadata": {},
   "source": [
    "**4. K-nearest Neighbors**"
   ]
  },
  {
   "cell_type": "markdown",
   "id": "3ce15732-649c-4232-a483-f461917a5471",
   "metadata": {},
   "source": [
    "K-nearest neighbors (k-NN) is a pattern recognition algorithm that uses training datasets to find the k closest relatives in future examples. \n",
    "\n",
    "When k-NN is used in classification, you calculate to place data within the category of its nearest neighbor. If k = 1, then it would be placed in the class nearest 1. K is classified by a plurality poll of its neighbors."
   ]
  },
  {
   "cell_type": "markdown",
   "id": "0005e491-e7cf-4b19-8474-e59bd548cc15",
   "metadata": {},
   "source": [
    "<p align=\"center\">\n",
    "<img src = https://cdn.analyticsvidhya.com/wp-content/uploads/2018/03/knn3.png\n",
    "style=\"width:40%; border:0;\">\n",
    "</p>"
   ]
  },
  {
   "cell_type": "markdown",
   "id": "4453c782-4560-455b-b65d-46e4f3c3a4be",
   "metadata": {},
   "source": [
    "**5.Decision Tree**"
   ]
  },
  {
   "cell_type": "markdown",
   "id": "df16bfc4-c0b9-4fec-95ee-d1828ce14b34",
   "metadata": {},
   "source": [
    "A decision tree is a supervised learning algorithm that is perfect for classification problems, as it’s able to order classes on a precise level. It works like a flow chart, separating data points into two similar categories at a time from the “tree trunk” to “branches,” to “leaves,” where the categories become more finitely similar. This creates categories within categories, allowing for organic classification with limited human supervision."
   ]
  },
  {
   "cell_type": "markdown",
   "id": "1545b179-c426-4980-bf64-d21190ccc2e2",
   "metadata": {},
   "source": [
    "<p align=\"center\">\n",
    "<img src = https://monkeylearn.com/static/b42ef5448b11ec2f2ec20ca7f97cbb3c/3a471/decision-tree-sports.webp\n",
    "style=\"width:50%; border:0;\">\n",
    "</p>"
   ]
  },
  {
   "cell_type": "markdown",
   "id": "055297f9-ff3b-4b04-8234-19f7d144b4d1",
   "metadata": {},
   "source": [
    "- **Random Forest**"
   ]
  },
  {
   "cell_type": "markdown",
   "id": "ee2ccce9-a9f4-4eee-9047-7d71d8010e59",
   "metadata": {},
   "source": [
    "The random forest algorithm is an expansion of decision tree, in that you first construct a multitude of decision trees with training data, then fit your new data within one of the trees as a “random forest.”\n",
    "\n",
    "It, essentially, averages your data to connect it to the nearest tree on the data scale. Random forest models are helpful as they remedy for the decision tree’s problem of “forcing” data points within a category unnecessarily. "
   ]
  },
  {
   "cell_type": "markdown",
   "id": "97e6595e-31f8-4f12-b776-5347dedb14e7",
   "metadata": {},
   "source": [
    "**6. Neural networks**"
   ]
  },
  {
   "cell_type": "markdown",
   "id": "92bd063a-43ff-40c9-b351-e8d0bb512dbc",
   "metadata": {},
   "source": [
    "Neural networks, also known as artificial neural networks (ANNs) or simulated neural networks (SNNs), are a subset of machine learning and are at the heart of deep learning algorithms. Their name and structure are inspired by the human brain, mimicking the way that biological neurons signal to one another.\n",
    "\n",
    "Artificial neural networks (ANNs) are comprised of a node layers, containing an input layer, one or more hidden layers, and an output layer. Each node, or artificial neuron, connects to another and has an associated weight and threshold. If the output of any individual node is above the specified threshold value, that node is activated, sending data to the next layer of the network. Otherwise, no data is passed along to the next layer of the network.\n",
    "\n",
    "Neural networks rely on training data to learn and improve their accuracy over time. However, once these learning algorithms are fine-tuned for accuracy, they are powerful tools in computer science and artificial intelligence, allowing us to classify and cluster data at a high velocity. Tasks in speech recognition or image recognition can take minutes versus hours when compared to the manual identification by human experts. "
   ]
  },
  {
   "cell_type": "markdown",
   "id": "4ae9571d-d325-492b-a78b-1a968fa08cdd",
   "metadata": {},
   "source": [
    "<p align=\"center\">\n",
    "<img src = https://d2mk45aasx86xg.cloudfront.net/Neural_Network_3f046bdabe.webp \n",
    "style=\"width:60%; border:0;\">\n",
    "</p>"
   ]
  },
  {
   "cell_type": "markdown",
   "id": "c0ba9b57-14cc-4fa4-813c-861c5111f380",
   "metadata": {},
   "source": [
    "### Types of problems"
   ]
  },
  {
   "cell_type": "markdown",
   "id": "3a62d3c2-92fa-4ca5-914a-5141dcb15405",
   "metadata": {},
   "source": [
    "**Etropy**"
   ]
  },
  {
   "cell_type": "markdown",
   "id": "c37cd162-6bd1-44a7-9326-901f71d44f67",
   "metadata": {},
   "source": [
    "Entropy is an information theory metric that measures the impurity or uncertainty in a group of observations. It determines how a decision tree chooses to split data. The image below gives a better description of the purity of a set."
   ]
  },
  {
   "cell_type": "markdown",
   "id": "83782f45-cd85-47b2-96ff-90b13a9bd1c9",
   "metadata": {},
   "source": [
    "<p align=\"center\">\n",
    "<img src = https://www.section.io/engineering-education/entropy-information-gain-machine-learning/purity.png\n",
    "style=\"width:60%; border:0;\">\n",
    "</p>"
   ]
  },
  {
   "cell_type": "markdown",
   "id": "28aef248-eb71-4e7a-9a30-99ccde637fb8",
   "metadata": {},
   "source": [
    "Consider a dataset with N classes. The entropy may be calculated using the formula below:"
   ]
  },
  {
   "cell_type": "markdown",
   "id": "90854a6e-5143-41b0-8913-674b78bf24ad",
   "metadata": {},
   "source": [
    "$$ E = - \\sum\\limits_{i=1}^{N} p_i log_2 p_i $$"
   ]
  },
  {
   "cell_type": "markdown",
   "id": "98e2eb53-e9d2-4b42-a662-0ca32b886728",
   "metadata": {},
   "source": [
    "$p_i$ is the probability of randomly selecting an example in class $i$."
   ]
  },
  {
   "cell_type": "markdown",
   "id": "6503f64c-65c4-42b7-ba07-15456aed21af",
   "metadata": {},
   "source": [
    " Entropy is measured between 0 and 1. "
   ]
  },
  {
   "cell_type": "markdown",
   "id": "66276bed-5b2e-4bd4-80fe-e80bd831251e",
   "metadata": {},
   "source": [
    "**Information Gain**"
   ]
  },
  {
   "cell_type": "markdown",
   "id": "dab7650c-deb1-417a-90f8-b4ab616d56b3",
   "metadata": {},
   "source": [
    "We can define information gain as a measure of how much information a feature provides about a class. Information gain helps to determine the order of attributes in the nodes of a decision tree.\n",
    "\n",
    "The main node is referred to as the parent node, whereas sub-nodes are known as child nodes. We can use information gain to determine how good the splitting of nodes in a decision tree.\n",
    "\n",
    "It can help us determine the quality of splitting. The calculation of information gain should help us understand this concept better."
   ]
  },
  {
   "cell_type": "markdown",
   "id": "2ed8c009-4e52-476e-8ef2-c2d28c7eaa7f",
   "metadata": {},
   "source": [
    "$ Gain = E_{parent} - E_{children} $"
   ]
  },
  {
   "cell_type": "markdown",
   "id": "d9885045-ecc1-404e-9d8c-0a54493695d7",
   "metadata": {},
   "source": [
    "The term Gain represents information gain. $ E_{parent} $ is the entropy of the parent node and $ E_{children}$ is the average entropy of the child nodes."
   ]
  },
  {
   "cell_type": "markdown",
   "id": "bdb59a6c-1e8a-47c3-ad81-2b8e37a2a5ef",
   "metadata": {},
   "source": [
    "**Underfitting and Overfitting**"
   ]
  },
  {
   "cell_type": "markdown",
   "id": "472810bb-d9b8-4f71-9f37-d856882b8106",
   "metadata": {},
   "source": [
    "    When we talk about the Machine Learning model, we actually talk about how well it performs and its accuracy which is known as prediction errors. Let us consider that we are designing a machine learning model. A model is said to be a good machine learning model if it generalizes any new input data from the problem domain in a proper way. This helps us to make predictions about future data, that the data model has never seen. Now, suppose we want to check how well our machine learning model learns and generalizes to the new data. For that, we have overfitting and underfitting, which are majorly responsible for the poor performances of the machine learning algorithms."
   ]
  },
  {
   "cell_type": "markdown",
   "id": "e9832f75-1ea8-4645-95ea-7905bd6596b5",
   "metadata": {},
   "source": [
    "Before diving further let’s understand two important terms:\n",
    "\n",
    "- **Bias**: Assumptions made by a model to make a function easier to learn. It is actually the error rate of the training data. When the error rate has a high value, we call it High Bias and when the error rate has a low value, we call it low Bias.\n",
    "- **Variance**:  The difference between the error rate of training data and testing data is called variance. If the difference is high then it’s called high variance and when the difference of errors is low then it’s called low variance. Usually, we want to make a low variance for generalized our model."
   ]
  },
  {
   "cell_type": "markdown",
   "id": "3e882867-1717-484e-bcfc-ea2d84ce420b",
   "metadata": {},
   "source": [
    "1. Underfitting"
   ]
  },
  {
   "cell_type": "markdown",
   "id": "a84cc550-d24c-41da-ab6d-8bb018a1828e",
   "metadata": {},
   "source": [
    "A statistical model or a machine learning algorithm is said to have underfitting when it cannot capture the underlying trend of the data, i.e., it only performs well on training data but performs poorly on testing data.\n",
    "Underfitting destroys the accuracy of our machine learning model. Its occurrence simply means that our model or the algorithm does not fit the data well enough. It usually happens when we have fewer data to build an accurate model and also when we try to build a linear model with fewer non-linear data. In such cases, the rules of the machine learning model are too easy and flexible to be applied to such minimal data and therefore the model will probably make a lot of wrong predictions. Underfitting can be avoided by using more data and also reducing the features by feature selection. \n",
    "\n",
    "In a nutshell, Underfitting refers to a model that can neither performs well on the training data nor generalize to new data. "
   ]
  },
  {
   "cell_type": "markdown",
   "id": "902ac5b9-7499-426f-a509-8c447dfc1e82",
   "metadata": {},
   "source": [
    "Reasons for Underfitting:"
   ]
  },
  {
   "cell_type": "markdown",
   "id": "e84acaf7-87d1-4092-91cf-bae4674ec789",
   "metadata": {},
   "source": [
    "1. High bias and low variance \n",
    "2. The size of the training dataset used is not enough.\n",
    "3. The model is too simple.\n",
    "4. Training data is not cleaned and also contains noise in it."
   ]
  },
  {
   "cell_type": "markdown",
   "id": "47af74ab-2ad7-4cfb-a6b3-ce20ceb0f8f4",
   "metadata": {},
   "source": [
    "Techniques to reduce underfitting: "
   ]
  },
  {
   "cell_type": "markdown",
   "id": "62759d60-4847-46b0-b4c3-1a2668f41fab",
   "metadata": {},
   "source": [
    "1. Increase model complexity\n",
    "2. Increase the number of features, performing feature engineering\n",
    "3. Remove noise from the data.\n",
    "4. Increase the number of epochs or increase the duration of training to get better results."
   ]
  },
  {
   "cell_type": "markdown",
   "id": "dc4c14f3-d955-46d2-a9f1-e33f7968d8c3",
   "metadata": {},
   "source": [
    "2. Overfitting"
   ]
  },
  {
   "cell_type": "markdown",
   "id": "07271fd6-a835-4087-ad8b-5e69f8cb81a5",
   "metadata": {},
   "source": [
    "A statistical model is said to be overfitted when the model does not make accurate predictions on testing data. When a model gets trained with so much data, it starts learning from the noise and inaccurate data entries in our data set. And when testing with test data results in High variance. Then the model does not categorize the data correctly, because of too many details and noise. The causes of overfitting are the non-parametric and non-linear methods because these types of machine learning algorithms have more freedom in building the model based on the dataset and therefore they can really build unrealistic models. A solution to avoid overfitting is using a linear algorithm if we have linear data or using the parameters like the maximal depth if we are using decision trees. \n",
    "\n",
    "In a nutshell, Overfitting is a problem where the evaluation of machine learning algorithms on training data is different from unseen data."
   ]
  },
  {
   "cell_type": "markdown",
   "id": "f74980b3-f6c6-4ace-b56d-8f42e4069431",
   "metadata": {},
   "source": [
    "Reasons for Overfitting are as follows:\n",
    "1. High variance and low bias \n",
    "2. The model is too complex\n",
    "3. The size of the training data "
   ]
  },
  {
   "cell_type": "markdown",
   "id": "3308285d-593e-41bb-9f3f-5d2d49c2c54c",
   "metadata": {},
   "source": [
    "Techniques to reduce overfitting:"
   ]
  },
  {
   "cell_type": "markdown",
   "id": "3d5ec7f3-74b2-41fc-9e8c-83471e1289fc",
   "metadata": {},
   "source": [
    "Increase training data.\n",
    "1. Reduce model complexity.\n",
    "2. Early stopping during the training phase (have an eye over the loss over the training period as soon as loss begins to increase stop training).\n",
    "3. Ridge Regularization and Lasso Regularization\n",
    "4. Use dropout for neural networks to tackle overfitting."
   ]
  },
  {
   "cell_type": "markdown",
   "id": "80a9098c-1cc4-4056-a9f1-89f96a65db48",
   "metadata": {},
   "source": [
    "    Examples:"
   ]
  },
  {
   "cell_type": "markdown",
   "id": "4f6a66b7-0564-4df2-94d5-2a3c7a96cee6",
   "metadata": {},
   "source": [
    "<p align=\"center\">\n",
    "<img src = https://media.geeksforgeeks.org/wp-content/uploads/20210323204619/imgonlinecomuaresizeLOjqonkALC.jpg \n",
    "style=\"width:60%; border:0;\">\n",
    "</p>"
   ]
  },
  {
   "cell_type": "markdown",
   "id": "6897cbe9-caa6-48cb-810e-55747122a2b0",
   "metadata": {},
   "source": [
    "<p align=\"center\">\n",
    "<img src = https://media.geeksforgeeks.org/wp-content/cdn-uploads/20190523171258/overfitting_2.png \n",
    "style=\"width:60%; border:0;\">\n",
    "</p>"
   ]
  },
  {
   "cell_type": "markdown",
   "id": "7b7d2883-cede-4f7a-a48d-74b8f68abbeb",
   "metadata": {},
   "source": [
    "**Upsampling and downsampling**"
   ]
  },
  {
   "cell_type": "markdown",
   "id": "c8956c12-7be4-4fc7-adb4-ed95522fc513",
   "metadata": {},
   "source": [
    "In a classification task, there is a high chance for the algorithm to be biased if the dataset is imbalanced. An imbalanced dataset is one in which the number of samples in one class is very higher or lesser than the number of samples in the other class. An example of an imbalanced dataset is the task of classifying 10% and 90% car loans given to a bank’s customers. In this scenario, the algorithm is likely to be biased towards classifying all the 10% loans as good and all the 90% loans as bad. An algorithm that is not biased, however, will always classify a class as good or bad. This means that the decision of whether a loan is good or bad, for example, can’t be determined without determining the probability of each class."
   ]
  },
  {
   "cell_type": "markdown",
   "id": "c55afca5-91b2-440b-9ac4-77c50836b791",
   "metadata": {},
   "source": [
    "Sampling is a method of data collection where we happen to observe a small subset of the population. One of the biggest problems with sampling is that if it is done in an imbalanced way, then we end up with biased data. To counter such imbalanced datasets, we use a technique called up-sampling and down-sampling. Up-sampling and down-sampling work by taking a small subset of the population, and then applying a correction or weighting process to that subset to ensure that the data collected is reflective of the population as a whole. For example, in an experiment on people’s opinions on different opinions, we might want to find out what percentage of people agree with opinion A and opinion B."
   ]
  },
  {
   "cell_type": "markdown",
   "id": "d152f1d0-31e5-434f-baab-cac3088c521f",
   "metadata": {},
   "source": [
    "    In up-sampling, we randomly duplicate the observations from the minority class in order to reinforce its signal. The most common way is to resample with replacement. This is equivalent to creating a random variable that has mean 0, and variance 1. For example, if we wanted to apply up-sampling on the data in the following table: Class A Class B Class C Number of Observations 5 10 15 Mean 3.5 4 5 Variance 2 2 1Number of Observations resampled with replacement: 5, 10, 15. Mean resampled with replacement: 2.05, 2.75, 3 .5. Variance resampled with replacement: 2, 2, 1. This ensures that the mean and variance of the resampled data are consistent with those of the original data set."
   ]
  },
  {
   "cell_type": "markdown",
   "id": "aa280a06-0467-4940-a84a-f7fb8331c7f0",
   "metadata": {},
   "source": [
    "    In down-sampling, we randomly remove the observations from the majority class. Thus after up-sampling or down-sampling, the dataset becomes balanced with same number of observations in each class .The final result of up-sampling and down-sampling is to preserve the distribution of the data.. .One way of decreasing the variance in a dataset is to down-sample the data."
   ]
  },
  {
   "cell_type": "markdown",
   "id": "f6581dce-8b48-4370-8534-12cefb137ff6",
   "metadata": {},
   "source": [
    "### Difference between binary, multiclass, and multi-label classification. "
   ]
  },
  {
   "cell_type": "markdown",
   "id": "bb19f5b1-3d44-4d44-a746-44d42a3b210e",
   "metadata": {},
   "source": [
    "Binary Classification is where each data sample is assigned one and only one label from two mutually exclusive classes. Multiclass Classification is where each data sample is assigned one and only one label from more than two classes. Multi-label Classification is a type of supervised machine learning algorithm that can be used to assign zero or more labels to each data sample.\n",
    "\n",
    "To summarize, binary classification is a supervised machine learning algorithm that is used to predict one of two classes for an item, while multiclass and multilabel classification is used to predict one or more classes for an item. While a multiclass classifier must assign one and only one class or label to each data sample, a multilabel classifier can assign zero or more classes or labels to the same data sample. Binary classification can be used for a variety of applications such as spam detection and fraud detection, while multiclass and multilabel classification is often used in image recognition and document classification tasks."
   ]
  },
  {
   "cell_type": "markdown",
   "id": "3358f3ad-d3bd-4372-b137-a43b466728cd",
   "metadata": {},
   "source": [
    "<p align=\"center\">\n",
    "<img src = https://www.researchgate.net/profile/Emerson-Nithiyaraj/publication/342987800/figure/fig1/AS:913942624870401@1594912310090/Binary-vs-Multiclass-classification.jpg \n",
    "style=\"width:60%; border:0;\">\n",
    "</p>"
   ]
  },
  {
   "cell_type": "markdown",
   "id": "77cb044a-1e8d-454d-8073-67794bf13fdc",
   "metadata": {},
   "source": [
    "##### What are Gradient Descent and Cost(Loss) Function"
   ]
  },
  {
   "cell_type": "markdown",
   "id": "254acb26-c82b-4d92-8a79-03969c014a8a",
   "metadata": {},
   "source": [
    "Gradient descent is an iterative optimization algorithm used in machine learning to minimize a loss function. The loss function describes how well the model will perform given the current set of parameters (weights and biases), and gradient descent is used to find the best set of parameters. We use gradient descent to update the parameters of our model. For example, parameters refer to coefficients in Linear Regression and weights in neural networks. "
   ]
  },
  {
   "cell_type": "markdown",
   "id": "789f798b-e453-4fbd-b09a-26f375298586",
   "metadata": {},
   "source": [
    "<p align=\"center\">\n",
    "<img src = https://miro.medium.com/max/1400/1*ool361dWI61RMDyUAmalmA.png\n",
    "style=\"width:70%; border:0;\">\n",
    "</p>"
   ]
  },
  {
   "cell_type": "markdown",
   "id": "2f641c47-734d-4445-9910-d9e0c74aa4fc",
   "metadata": {},
   "source": [
    "The goal of any Machine Learning model is to minimize the Cost Function. Gradient descent is an efficient optimization algorithm that attempts to find a local or global minimum of a function."
   ]
  },
  {
   "cell_type": "markdown",
   "id": "81c36c33-c36d-4fea-9713-811f66361590",
   "metadata": {},
   "source": [
    "##### Calculating gradient descent"
   ]
  },
  {
   "cell_type": "markdown",
   "id": "43951b5b-55ae-482b-8a64-bffe42f56fda",
   "metadata": {},
   "source": [
    "Gradient Descent runs iteratively to find the optimal values of the parameters corresponding to the minimum value of the given cost function, using calculus. Mathematically, the technique of the ‘derivative’ is extremely important to minimise the cost function because it helps get the minimum point. The derivative is a concept from calculus and refers to the slope of the function at a given point. We need to know the slope so that we know the direction (sign) to move the coefficient values in order to get a lower cost on the next iteration."
   ]
  },
  {
   "cell_type": "markdown",
   "id": "f38d4c6d-ff11-4838-ab82-a9ec49f2385b",
   "metadata": {},
   "source": [
    "<p align=\"center\">\n",
    "<img src = https://miro.medium.com/max/1400/1*tQTcGTLZqnI5rp3JYO_4NA.png \n",
    "style=\"width:70%; border:0;\">\n",
    "</p>"
   ]
  },
  {
   "cell_type": "markdown",
   "id": "2cf9ea8f-019b-44ce-a38f-057874a9e5af",
   "metadata": {},
   "source": [
    "θ1 gradually converges towards a minimum value."
   ]
  },
  {
   "cell_type": "markdown",
   "id": "fa65bbd9-d52e-4332-80b7-2a504b3b8dc3",
   "metadata": {},
   "source": [
    "The derivative of a function (in our case, J(θ)) on each parameter (in our case weight θ) tells us the sensitivity of the function with respect to that variable or how changing the variable impacts the function value. Gradient descent, therefore, enables the learning process to make corrective updates to the learned estimates that move the model toward an optimal combination of parameters (θ). The cost is calculated for a machine learning algorithm over the entire training dataset for each iteration of the gradient descent algorithm. In Gradient Descent, one iteration of the algorithm is called one batch, which denotes the total number of samples from a dataset that is used for calculating the gradient for each iteration."
   ]
  },
  {
   "cell_type": "markdown",
   "id": "6d1d5d8e-c5ae-412f-9fb5-be7610a4b141",
   "metadata": {},
   "source": [
    "**The step of the derivation**"
   ]
  },
  {
   "cell_type": "markdown",
   "id": "fb2dfaf7-2dea-412f-8126-a3ab47e7b4b9",
   "metadata": {},
   "source": [
    "$$ J(\\theta) = \\frac {1}{m}\\sum_{i=1}^m(h_\\theta(x^{(i)}) - y^{(i)})^2$$"
   ]
  },
  {
   "cell_type": "markdown",
   "id": "6e5d1bb8-a5d5-4c2c-9ff2-4c1b88494be1",
   "metadata": {},
   "source": [
    "$$ \\frac{\\partial}{\\partial\\theta_0}J(\\theta_0,\\theta_1) = \\frac {\\partial}{\\partial \\theta_0} \\left( \\frac {1}{m}\\sum_{i=1}^m(h_{\\theta}(x^{(i)}) - y^{(i)})^2 \\right)$$"
   ]
  },
  {
   "cell_type": "markdown",
   "id": "56b85d37-ea55-46de-b517-3185ba027943",
   "metadata": {},
   "source": [
    "$$ = \\frac{1}{m} \\sum_{i=1}^m \\frac {\\partial}{\\partial \\theta_0}(h_\\theta(x^{(i)}) - y^{(i)})^2$$"
   ]
  },
  {
   "cell_type": "markdown",
   "id": "793de158-a9c4-42e0-af69-e56e7890d971",
   "metadata": {},
   "source": [
    "$$ = \\frac{1}{m}\\sum_{i=1}^m2(h_\\theta(x^{(i)}) - y^{(i)}) \\frac{\\partial}{\\partial\\theta_0}(h_\\theta(x^{(i)})- y^{(i)})$$"
   ]
  },
  {
   "cell_type": "markdown",
   "id": "3b3c6d8f-f127-4906-8cc6-6b25c9965745",
   "metadata": {},
   "source": [
    "$$ = \\frac{2}{m}\\sum_{i=1}^m(h_\\theta(x^{(i)}) - y^{(i)})$$"
   ]
  },
  {
   "cell_type": "markdown",
   "id": "d78b4e1e-8c45-482e-b16d-12d11f7715d1",
   "metadata": {},
   "source": [
    "To solve for the gradient, we iterate through our data points using our new weight ‘θ0’ and bias ‘θ1’ values and compute the partial derivatives. This new gradient tells us the slope of our cost function at our current position (current parameter values) and the direction we should move to update our parameters. The size of our update is controlled by the learning rate."
   ]
  },
  {
   "cell_type": "markdown",
   "id": "67eff34b-9b22-4a39-8c52-2d6d1410e20f",
   "metadata": {},
   "source": [
    "<p align=\"center\">\n",
    "<img src = https://miro.medium.com/max/1400/1*GTRi-Y2doXbbrc4lGJYH-w.png\n",
    "style=\"width:60%; border:0;\">\n",
    "</p>"
   ]
  },
  {
   "cell_type": "markdown",
   "id": "ba8743a2-ef2f-4441-a8be-2112e6b9607e",
   "metadata": {},
   "source": [
    "The size of these steps is called the learning rate (α) that gives us some additional control over how large of steps we make. With a large learning rate, we can cover more ground each step, but we risk overshooting the lowest point since the slope of the hill is constantly changing. With a very low learning rate, we can confidently move in the direction of the negative gradient since we are recalculating it so frequently. A low learning rate is more precise, but calculating the gradient is time-consuming, so it will take us a very long time to get to the bottom. The most commonly used rates are: 0.001, 0.003, 0.01, 0.03, 0.1, 0.3.\n",
    "\n",
    "Now let’s discuss the three variants of gradient descent algorithm. The main difference between them is the amount of data we use when computing the gradients for each learning step. The trade-off between them is the accuracy of the gradient versus the time complexity to perform each parameter’s update (learning step)."
   ]
  },
  {
   "cell_type": "markdown",
   "id": "5adc888f-be0b-45bc-ae09-2b3eaaf28a42",
   "metadata": {},
   "source": [
    "**Stochastic gradient descent (SGD)**"
   ]
  },
  {
   "cell_type": "markdown",
   "id": "cf424849-ba01-42b5-9ab7-9447716b435a",
   "metadata": {},
   "source": [
    "However, there is a disadvantage of applying a typical Gradient Descent optimization technique in our dataset. It becomes computationally very expensive to perform because we have to use all of the one million samples for completing one iteration, and it has to be done for every iteration until the minimum point is reached. This problem can be solved by Stochastic Gradient Descent.\n",
    "\n",
    "The word ‘stochastic’ means a system or a process that is linked with a random probability. Stochastic gradient descent uses this idea to speed up the process of performing gradient descent. Hence, unlike the typical Gradient Descent optimization, instead of using the whole data set for each iteration, we are able to use the cost gradient of only 1 example at each iteration. Even though using the whole dataset is really useful for getting to the minima in a less noisy or less random manner, the problem arises when our datasets get really large."
   ]
  },
  {
   "cell_type": "markdown",
   "id": "5c9d45c7-bd93-4d29-b218-7228b3942e18",
   "metadata": {},
   "source": [
    "<p align=\"center\">\n",
    "<img src = https://miro.medium.com/max/1400/1*GwEtRMIIU7StzlUv4ysTWg.png\n",
    "style=\"width:60%; border:0;\">\n",
    "</p>"
   ]
  },
  {
   "cell_type": "markdown",
   "id": "ded3b8f7-a57f-4172-8d4e-647edf5ae48a",
   "metadata": {},
   "source": [
    "The two main differences are that the stochastic gradient descent method helps us avoid the problem where we find those local extremities or local minimums rather than the overall global minimum.\n",
    "\n",
    "As mentioned, the stochastic gradient descent method is doing one iteration or one row at a time, and therefore, the fluctuations are much higher than the batch gradient descent.\n",
    "\n",
    "Three variants of gradient descent algorithm\n",
    "\n",
    "- Batch gradient descent (BGD): calculate the error for each example in the training dataset, but only updates the model after all training examples have been evaluated.\n",
    "- Stochastic gradient descent (SGD): calculate the error and updates the model for each examplein the training dataset.\n",
    "- Mini-Batch gradient descent: split the training dataset into small batches that are used to calculate model error and updated model coefficients. (the most common implementation of gradient descent used in the field of deep learning)"
   ]
  },
  {
   "cell_type": "markdown",
   "id": "b25072a6-4703-424f-adc8-b29b41a56c7a",
   "metadata": {},
   "source": [
    "    Mini-Batch gradient descent can find a balance between the robustness of SGD and the efficiency of BGD."
   ]
  },
  {
   "cell_type": "markdown",
   "id": "1d850427-a9a2-4848-88be-45d7cf78741d",
   "metadata": {},
   "source": [
    "### Distance Metrics"
   ]
  },
  {
   "cell_type": "markdown",
   "id": "3433ee31-0be9-40a9-a96b-3cba3a1abcdf",
   "metadata": {},
   "source": [
    "Basic Definition from Math.net,\n",
    "\n",
    "A distance function provides distance between the elements of a set. If the distance is zero then elements are equivalent else they are different from each other.\n",
    "\n",
    "A distance function is nothing but a mathematical formula used by distance metrics. The distance function can differ across different distance metrics."
   ]
  },
  {
   "cell_type": "markdown",
   "id": "9328172d-6486-464c-bc80-b33c7a553510",
   "metadata": {},
   "source": [
    "1. Minkowski Distance:"
   ]
  },
  {
   "cell_type": "markdown",
   "id": "a8c04618-bd58-4c94-b759-13c3113bbe4d",
   "metadata": {},
   "source": [
    "Minkowski distance is a metric in Normed vector space. What is Normed vector space? A Normed vector space is a vector space on which a norm is defined. Suppose X is a vector space then a norm on X is a real valued function ||x|| which satisfies below conditions -\n",
    "\n",
    "1. Zero Vector- Zero vector will have zero length.\n",
    "2. Scalar Factor- The direction of vector doesn’t change when you multiply it with a positive number though its length will be changed.\n",
    "3. Triangle Inequality- If distance is a norm then the calculated distance between two points will always be a straight line.\n",
    "You might be wondering why do we need normed vector, can we just not go for simple metrics? As normed vector has above properties which helps to keep the norm induced metric- homogeneous and translation invariant. More details can be found here.\n",
    "\n",
    "The distance can be calculated using below formula -"
   ]
  },
  {
   "cell_type": "markdown",
   "id": "cfa500f0-22ac-490a-86a8-a17e97f61915",
   "metadata": {},
   "source": [
    "$$ \\left(\\sum_{i=1}^n\\small|x_i-y_i\\small|^p \\right)^{1/p}$$"
   ]
  },
  {
   "cell_type": "markdown",
   "id": "c7898c7b-976c-4b7d-9c19-d379a8acb89e",
   "metadata": {},
   "source": [
    "Minkowski distance is the generalized distance metric. Here generalized means that we can manipulate the above formula to calculate the distance between two data points in different ways."
   ]
  },
  {
   "cell_type": "markdown",
   "id": "ba51c4a6-9dc5-4bc2-8925-0c685702ab62",
   "metadata": {},
   "source": [
    "2. Manhattan Distance"
   ]
  },
  {
   "cell_type": "markdown",
   "id": "a534091a-ddf5-49b1-b7ce-4a1093ba1197",
   "metadata": {},
   "source": [
    "We use Manhattan Distance if we need to calculate the distance between two data points in a grid like path. As mentioned above, we use Minkowski distance formula to find Manhattan distance by setting p’s value as 1.\n",
    "\n",
    "Let’s say, we want to calculate the distance, d, between two data points- x and y."
   ]
  },
  {
   "cell_type": "markdown",
   "id": "c49f3a87-5b48-40c0-b742-15a7d755b2be",
   "metadata": {},
   "source": [
    "<p align=\"center\">\n",
    "<img src = https://d2mk45aasx86xg.cloudfront.net/image5_11zon_7723f44a19.webp \n",
    "style=\"width:50%; border:0;\">\n",
    "</p>"
   ]
  },
  {
   "cell_type": "markdown",
   "id": "8e373228-20c2-4547-84b5-ff839788061e",
   "metadata": {},
   "source": [
    "Distance d will be calculated using an absolute sum of difference between its cartesian co-ordinates as below :"
   ]
  },
  {
   "cell_type": "markdown",
   "id": "3a0db82e-4dea-49ec-a07d-8bca1d820b6a",
   "metadata": {},
   "source": [
    "$$ d = \\sum_{i=1}^n|x_i - y_i| $$"
   ]
  },
  {
   "cell_type": "markdown",
   "id": "9e7abcb6-d8c1-400f-841b-3aac35c06dd3",
   "metadata": {},
   "source": [
    "where, n- number of variables, xi and yi are the variables of vectors x and y respectively, in the two dimensional vector space. i.e. x = (x1,x2,x3,...) and y = (y1,y2,y3,…).\n",
    "\n",
    "Now the distance d will be calculated as-\n",
    "\n",
    "$(x_1 - y_1) + (x_2 - y_2) + (x_3 - y_3) + \\cdots + (x_n - y_n)$.\n",
    "Manhattan distance is also known as Taxicab Geometry, City Block Distance etc."
   ]
  },
  {
   "cell_type": "markdown",
   "id": "bddabdb1-60b1-40a2-a4b3-ecc3e56526ab",
   "metadata": {},
   "source": [
    "3. Euclidean Distance"
   ]
  },
  {
   "cell_type": "markdown",
   "id": "d803a2d2-e785-4acb-a01d-ec339d3c7292",
   "metadata": {},
   "source": [
    "Euclidean distance is one of the most used distance metric. It is calculated using Minkowski Distance formula by setting p’s value to 2. This will update the distance ‘d’ formula as below :"
   ]
  },
  {
   "cell_type": "markdown",
   "id": "ee7266f4-b387-46f4-8b81-3d482f7d2fbc",
   "metadata": {},
   "source": [
    "$$ d(x,y) = \\sqrt{\\sum_{i=1}^n(x_i-y_i)^2 }$$"
   ]
  },
  {
   "cell_type": "markdown",
   "id": "1776d305-8ffb-455a-baab-d259a13e084d",
   "metadata": {},
   "source": [
    "Euclidean distance formula can be used to calculate the distance between two data points in a plane."
   ]
  },
  {
   "cell_type": "markdown",
   "id": "9b6ce54f-156f-4a0a-aed7-d0d2d68407e6",
   "metadata": {},
   "source": [
    "<p align=\"center\">\n",
    "<img src = https://miro.medium.com/v2/resize:fit:346/format:webp/1*SgCOc8RDS0o82jdPO8kcVQ.png\n",
    "style=\"width:30%; border:0;\">\n",
    "</p>"
   ]
  },
  {
   "cell_type": "markdown",
   "id": "22cbf471-a74f-41a5-81a6-8a5c337c7e9a",
   "metadata": {},
   "source": [
    "4. Cosine Distance"
   ]
  },
  {
   "cell_type": "markdown",
   "id": "10c68b3f-9293-42f9-a772-c6770a551f48",
   "metadata": {},
   "source": [
    "Mostly Cosine distance metric is used to find similarities between different documents. In cosine metric we measure the degree of angle between two documents/vectors(the term frequencies in different documents collected as metrics). This particular metric is used when the magnitude between vectors does not matter but the orientation.\n",
    "Cosine similarity formula can be derived from the equation of dot products :-"
   ]
  },
  {
   "cell_type": "markdown",
   "id": "a5a015ce-28d9-433f-9040-3fd1d775c0a2",
   "metadata": {},
   "source": [
    "$$ \\vec a . \\vec b = \\Vert \\vec a \\Vert \\Vert \\vec b \\Vert \\cos\\theta  $$"
   ]
  },
  {
   "cell_type": "markdown",
   "id": "7229ec87-85d3-4829-8e7f-cf7852fa43ed",
   "metadata": {},
   "source": [
    "$$ \\cos \\theta = \\frac {\\vec a . \\vec b}{\\Vert \\vec a \\Vert \\Vert \\vec b \\Vert}$$"
   ]
  },
  {
   "cell_type": "markdown",
   "id": "4d16f64e-845e-45ff-bfb8-4330e509ed2c",
   "metadata": {},
   "source": [
    "Now, you must be thinking which value of cosine angle will be helpful in finding out the similarities."
   ]
  },
  {
   "cell_type": "markdown",
   "id": "04a71c87-8235-44bd-b33e-fdd890c3ba22",
   "metadata": {},
   "source": [
    "$$ \\cos 0^{\\circ} = 1 \\cos 90^{\\circ} = 0 $$"
   ]
  },
  {
   "cell_type": "markdown",
   "id": "0d42818e-53f5-4fa5-9cae-3519c5a5c250",
   "metadata": {},
   "source": [
    "$$ \\cos 180^{\\circ} = -1 $$"
   ]
  },
  {
   "cell_type": "markdown",
   "id": "18ff1672-e7da-456f-9c1b-1c099fc8d016",
   "metadata": {},
   "source": [
    "Now that we have the values which will be considered in order to measure the similarities, we need to know what do 1, 0 and -1 signify.\n",
    "\n",
    "Here cosine value 1 is for vectors pointing in the same direction i.e. there are similarities between the documents/data points. At zero for orthogonal vectors i.e. Unrelated(some similarity found). Value -1 for vectors pointing in opposite directions(No similarity)."
   ]
  },
  {
   "cell_type": "markdown",
   "id": "9eee6f58-5ede-4b82-9fd1-9ee6d0b0d2ec",
   "metadata": {},
   "source": [
    "5. Mahalanobis Distance"
   ]
  },
  {
   "cell_type": "markdown",
   "id": "51d326ec-d498-4748-8f71-e8001219139e",
   "metadata": {},
   "source": [
    "Mahalanobis Distance is used for calculating the distance between two data points in a multivariate space.\n",
    "\n",
    "According to Wikipedia Definition,\n",
    "\n",
    "The Mahalanobis distance is a measure of the distance between a point P and a distribution D. The idea of measuring is, how many standard deviations away P is from the mean of D.\n",
    "\n",
    "The benefit of using mahalanobis distance is, it takes covariance in account which helps in measuring the strength/similarity between two different data objects. The distance between an observation and the mean can be calculated as below -"
   ]
  },
  {
   "cell_type": "markdown",
   "id": "b1b1ad23-aeb7-4018-9932-f175bbcfffc5",
   "metadata": {},
   "source": [
    "$ D_M(\\vec x) = \\sqrt {(\\vec x - \\vec \\mu)^T S^{-1} (\\vec x - \\vec \\mu)}$"
   ]
  },
  {
   "cell_type": "markdown",
   "id": "70662191-a344-452d-820e-f81d03e06903",
   "metadata": {},
   "source": [
    "Here, S is the covariance metrics. We are using inverse of the covariance metric to get a variance-normalized distance equation."
   ]
  },
  {
   "cell_type": "markdown",
   "id": "704533c4-cbb2-4199-8270-5d6ba6e159e8",
   "metadata": {},
   "source": [
    "6. Hamming Distance "
   ]
  },
  {
   "cell_type": "markdown",
   "id": "2631be7f-6606-4cbd-b48a-2ef2a907fd27",
   "metadata": {},
   "source": [
    "Hamming distance is a metric for comparing two binary data strings. While comparing two binary strings of equal length, Hamming distance is the number of bit positions in which the two bits are different. The Hamming distance method looks at the whole data and finds when data points are similar and dissimilar one to one.  The Hamming distance gives the result of how many attributes were different.\n",
    "\n",
    "This is used mostly when you one-hot encode your data and need to find distances between the two binary vectors.\n",
    "\n",
    "Suppose we have two strings “ABCDE” and “AGDDF” of same length and we want to find the hamming distance between these. We will go letter by letter in each string and see if they are similar or not like first letters of both strings are similar, then second is not similar and so on.\n",
    "\n",
    "**A**BC**D**E and **A**GD**D**F\n",
    "When we are done doing this we will see that only two letters marked in black were similar and three were dissimilar in the strings. Hence, the Hamming Distance here will be 3. Note that larger the Hamming Distance between two strings, more dissimilar will be those strings (and vice versa)."
   ]
  },
  {
   "cell_type": "markdown",
   "id": "fa8caf52-9c6d-45ca-86b2-4cd4ed85dbaa",
   "metadata": {},
   "source": [
    "Examples:\n",
    "The symbols may be letters, bits, or decimal digits, among other possibilities. For example, the Hamming distance between:\n",
    "\n",
    "- \"ka**rol**in\" and \"ka**thr**in\" is 3.\n",
    "- \"k**a**r**ol**in\" and \"k**e**r**st**in\" is 3.\n",
    "- \"k**athr**in\" and \"k**erst**in\" is 4.\n",
    "- **0000** and **1111** is 4.\n",
    "- 2**17**3**8**96 and 2**23**3**7**96 is 3."
   ]
  },
  {
   "cell_type": "markdown",
   "id": "03311963-d887-4738-abcd-255622408112",
   "metadata": {},
   "source": [
    "The following function, returns the Hamming distance between two strings:"
   ]
  },
  {
   "cell_type": "code",
   "execution_count": 7,
   "id": "cc0a800e-9172-437e-9d45-5bdaa948fbee",
   "metadata": {},
   "outputs": [],
   "source": [
    "def hamming_distance(string1: str, string2: str):\n",
    "    \"\"\"Return the Hamming distance between two strings.\"\"\"\n",
    "    if len(string1) != len(string2):\n",
    "        raise ValueException(\"Strings must be of equal length.\")\n",
    "    dist_counter = 0\n",
    "    for n in range(len(string1)):\n",
    "        if string1[n] != string2[n]:\n",
    "            dist_counter += 1\n",
    "    return dist_counter"
   ]
  },
  {
   "cell_type": "code",
   "execution_count": 8,
   "id": "86a82249-a81b-454f-9636-50b4ed53ee8e",
   "metadata": {},
   "outputs": [
    {
     "data": {
      "text/plain": [
       "3"
      ]
     },
     "execution_count": 8,
     "metadata": {},
     "output_type": "execute_result"
    }
   ],
   "source": [
    "hamming_distance(\"karolin\",\"kathrin\")"
   ]
  },
  {
   "cell_type": "markdown",
   "id": "5649dbde-bef4-4a3b-96e5-d0b4fd7a2eef",
   "metadata": {},
   "source": [
    "### Accuracy, Precision, Recall, others"
   ]
  },
  {
   "cell_type": "markdown",
   "id": "028830a1-3182-47b2-a55c-b455c8f2ea90",
   "metadata": {},
   "source": [
    "Before Defining these classification metrics, it is critical to understand what TP, FP, FN, and TN mean. T (True) means that the model has correctly classified an observation. In other words, the predicted class and actual class coincide with one another. F (False) means that the model has incorrectly classified an observation by assigning it to the wrong class. TP ( True Positive) means the model was correctly classified in the positive class. TN ( True Negative) means the model correctly classified an observation in the negative class. FP (False positive) means the model classified an observation to be positive when in reality it was actually negative. FN ( False Negative) means the model incorrectly classified an observation as negative when it should have been classified as positive."
   ]
  },
  {
   "cell_type": "markdown",
   "id": "921b21e4-5901-4989-b230-0763ea28cc24",
   "metadata": {},
   "source": [
    "**Confusion matrix**"
   ]
  },
  {
   "cell_type": "markdown",
   "id": "18ea078b-011a-4649-b4ab-57854f2bc72c",
   "metadata": {},
   "source": [
    "The confusion matrix is a table that summarizes how successful the classification model is at predicting examples belonging to various classes. One axis of the confusion matrix is the label that the model predicted, and the other axis is the actual label. Let's take an example of classifying whether a person has a heart disease or not:"
   ]
  },
  {
   "cell_type": "markdown",
   "id": "6f640ae5-4ab8-4402-b744-0f69dc61fd0d",
   "metadata": {},
   "source": [
    "<p align=\"center\">\n",
    "<img src = https://miro.medium.com/v2/resize:fit:667/1*3yGLac6F4mTENnj5dBNvNQ.jpeg\n",
    "style=\"width:40%; border:0;\">\n",
    "</p>"
   ]
  },
  {
   "cell_type": "markdown",
   "id": "86aef72a-6539-4575-a43a-62a64786128e",
   "metadata": {},
   "source": [
    "In above confusion matrix table, green diagonal shows the result that in actually they are one thing and model also predicted that same thing but red diagonal shows the result that in actual they are one thing and model predicted it another thing.\n",
    "\n",
    "We can use confusion matrix when we compare different model by looking how well it predicted a true positive(TP) and true negative(TN). If one model predicted a TP and TN very well than other model then we choose this model as our base model."
   ]
  },
  {
   "cell_type": "markdown",
   "id": "caa25417-4578-49ea-96e7-62518db25e2a",
   "metadata": {},
   "source": [
    "**Precision**"
   ]
  },
  {
   "cell_type": "markdown",
   "id": "aa0eda21-aa55-497a-902b-452472ccd105",
   "metadata": {},
   "source": [
    "In definition it is define as the actual correct prediction divided by total prediction made by model. !!!In simple language let our model predict that out of 10 patient 7 has heart disease and among that predicted 7 patient, only 3 has actual heart disease so in this case precision is 3/7 = 0.428 In our case true positive(TP) is 3 and false positive(FP) 7-3=4"
   ]
  },
  {
   "cell_type": "markdown",
   "id": "fd171163-43d7-4157-8071-18060eb3f684",
   "metadata": {},
   "source": [
    "$$ precision \\stackrel{\\text{def}}{=} \\frac{TP}{TP + FP} $$"
   ]
  },
  {
   "cell_type": "markdown",
   "id": "176b971a-55e2-474d-941e-e8172a5e3913",
   "metadata": {},
   "source": [
    "**Recall**"
   ]
  },
  {
   "cell_type": "markdown",
   "id": "88a7cc46-5815-4648-b8cd-1d8df764fb24",
   "metadata": {},
   "source": [
    "In an classification problem with two classes, recall is calculated as the number of true positives divided by the total number of true positives and false negatives. In or case of heart disease patient let's suppose there is 7 actual heart patient but our model predict only 5 has heart disease so in this case recall is 5/7=0.714"
   ]
  },
  {
   "cell_type": "markdown",
   "id": "cba001fb-44e2-4656-8cb0-5105489a720d",
   "metadata": {},
   "source": [
    "How to choose Precision and Recall?\n",
    "Almost always, in practice, we have to choose between a high precision or a high recall. It’s usually impossible to have both. We can achieve either of the two by various means:\n",
    "\n",
    "- Assigning a higher weighting to the examples of a specific class (the SVM algorithm accepts weightings of classes as input)\n",
    "- Tuning hyperparameters to maximize precision or recall on the validation set.\n",
    "- Varying the decision threshold for algorithms that return probabilities of classes; for instance, if we use logistic regression or decision tree, to increase precision (at the cost of a lower recall), we can decide that the prediction will be positive only if the probability returned by the model is higher than 0.9.\n",
    "\n",
    "Even if precision and recall are defined for the binary classification case, you can always use it to assess a multiclass classification model. To do that, first select a class for which you want to assess these metrics. Then you consider all examples of the selected class as positives and all examples of the remaining classes as negatives."
   ]
  },
  {
   "cell_type": "markdown",
   "id": "7aa60b96-7172-465f-9585-ea4da824b014",
   "metadata": {},
   "source": [
    "**Accuracy**"
   ]
  },
  {
   "cell_type": "markdown",
   "id": "94d530c5-74a0-434b-b1ea-48104d3c0b63",
   "metadata": {},
   "source": [
    "It is defined as total correctly classified example divided by the total number of classified examples. Lets express it in terms of confusion matrix:"
   ]
  },
  {
   "cell_type": "markdown",
   "id": "f0d62f0a-8bf0-4051-8efe-3dcdb20f76ef",
   "metadata": {},
   "source": [
    "$$ accuracy \\stackrel{\\text{def}}{=} \\frac{TP + TN}{TP + TN + FP +FN} $$"
   ]
  },
  {
   "cell_type": "markdown",
   "id": "1a8ffcf3-2eec-4f58-8ce6-b1002c8531cb",
   "metadata": {},
   "source": [
    "This metric is very important when error in predicting all class is equally important. Here False positive is most important to address than False negative. Lets take a example of an email is spam or not spam. In this case if our model classify a email send by boss is spam and don't show it is more harmful than showing small amount of email as spam."
   ]
  },
  {
   "cell_type": "markdown",
   "id": "396ab2f6-29e3-47b2-8a19-eaed265cedc1",
   "metadata": {},
   "source": [
    "**F1 Score**"
   ]
  },
  {
   "cell_type": "markdown",
   "id": "5affd270-b88f-415f-b68c-7a07471edff7",
   "metadata": {},
   "source": [
    "F1 score is a weighted average of precision and recall. As we know in precision and in recall there is false positive and false negative so it also consider both of them. F1 score is usually more useful than accuracy, especially if you have an uneven class distribution. Accuracy works best if false positives and false negatives have similar cost. If the cost of false positives and false negatives are very different, it’s better to look at both Precision and Recall.\n",
    "\n",
    "$$ F1 Score = \\frac{2*(Recall * Precision)}{(Recall + Precision)} $$"
   ]
  },
  {
   "cell_type": "markdown",
   "id": "228599b5-5ed7-4abd-afc2-748f0bec3b1e",
   "metadata": {},
   "source": [
    "**ROC curve**"
   ]
  },
  {
   "cell_type": "markdown",
   "id": "17c82b63-9ca8-4350-92fa-1dd87514c0af",
   "metadata": {},
   "source": [
    "###### What is a ROC Curve and How to Interpret It"
   ]
  },
  {
   "cell_type": "markdown",
   "id": "8124f546-11be-4196-9aca-cb02539ee866",
   "metadata": {},
   "source": [
    "A Receiver Operator Characteristic (ROC) curve is a graphical plot used to show the diagnostic ability of binary classifiers. It was first used in signal detection theory but is now used in many other areas such as medicine, radiology, natural hazards and machine learning. In this post I'll show you how a ROC curve is created and how to interpret the ROC curve.\n",
    "\n",
    "An example is shown below:"
   ]
  },
  {
   "cell_type": "markdown",
   "id": "b683252e-8cb9-4db2-8e0f-4968ec1fc95e",
   "metadata": {},
   "source": [
    "<p align=\"center\">\n",
    "<img src = https://cdn-dfnaj.nitrocdn.com/xxeFXDnBIOflfPsgwjDLywIQwPChAOzV/assets/images/optimized/rev-7fa8f01/wp-content/uploads/2018/07/ROC.png\n",
    "style=\"width:60%; border:0;\">\n",
    "</p>"
   ]
  },
  {
   "cell_type": "markdown",
   "id": "9b6f2e6c-a1ba-45dd-a046-8847e39cc243",
   "metadata": {},
   "source": [
    "* Creating a ROC curve"
   ]
  },
  {
   "cell_type": "markdown",
   "id": "5487416c-faa2-4111-b5cb-d99c84d00773",
   "metadata": {},
   "source": [
    "A ROC curve is constructed by plotting the true positive rate (TPR) against the false positive rate (FPR). The true positive rate is the proportion of observations that were correctly predicted to be positive out of all positive observations (TP/(TP + FN)). Similarly, the false positive rate is the proportion of observations that are incorrectly predicted to be positive out of all negative observations (FP/(TN + FP)). For example, in medical testing, the true positive rate is the rate in which people are correctly identified to test positive for the disease in question.\n",
    "\n",
    "A discrete classifier that returns only the predicted class gives a single point on the ROC space. But for probabilistic classifiers, which give a probability or score that reflects the degree to which an instance belongs to one class rather than another, we can create a curve by varying the threshold for the score. Note that many discrete classifiers can be converted to a scoring classifier by ‘looking inside’ their instance statistics. For example, a decision tree determines the class of a leaf node from the proportion of instances at the node."
   ]
  },
  {
   "cell_type": "markdown",
   "id": "6dc284c4-c51c-4e03-acc3-bc9b4a54490b",
   "metadata": {},
   "source": [
    "* Interpreting the ROC curve"
   ]
  },
  {
   "cell_type": "markdown",
   "id": "e307f656-d307-4279-bb71-e19afa0638df",
   "metadata": {},
   "source": [
    "The ROC curve shows the trade-off between sensitivity (or TPR) and specificity (1 – FPR). Classifiers that give curves closer to the top-left corner indicate a better performance. As a baseline, a random classifier is expected to give points lying along the diagonal (FPR = TPR). The closer the curve comes to the 45-degree diagonal of the ROC space, the less accurate the test.\n",
    "\n",
    "Note that the ROC does not depend on the class distribution. This makes it useful for evaluating classifiers predicting rare events such as diseases or disasters. In contrast, evaluating performance using accuracy (TP + TN)/(TP + TN + FN + FP) would favor classifiers that always predict a negative outcome for rare events."
   ]
  },
  {
   "cell_type": "markdown",
   "id": "66fb29c4-12e8-4749-9ac1-841f5733f812",
   "metadata": {},
   "source": [
    "**Area under the roc curve (AUC)**"
   ]
  },
  {
   "cell_type": "markdown",
   "id": "fdcb0dbc-cf78-4f68-ab53-934c6f644a94",
   "metadata": {},
   "source": [
    "It can only be used to assess classifiers that return some confidence score (or a probability) of prediction. For example, logistic regression, neural networks, and decision trees (and ensemble models based on decision trees) can be assessed using ROC curves.\n",
    "\n",
    "ROC curve commonly use the combination of true positive rate(TPR) and false positive rate(FPR) and that is given as:"
   ]
  },
  {
   "cell_type": "markdown",
   "id": "ac60c9af-ef4c-4391-8948-17a83affb602",
   "metadata": {},
   "source": [
    "$$ TPR \\stackrel{\\text{def}}{=} \\frac{TP}{TP + FN} \\quad and  \\quad FPR \\stackrel{\\text{def}}{=} \\frac{FP}{FP + TN} $$"
   ]
  },
  {
   "cell_type": "markdown",
   "id": "2944241b-f698-454f-a5fd-8fb3a9d0001a",
   "metadata": {},
   "source": [
    "The higher the area under the ROC curve (AUC), the better the classifier. A classifier with an AUC higher than 0.5 is better than a random classifier. If AUC is lower than 0.5, then something is wrong with your model. A perfect classifier would have an AUC of 1."
   ]
  },
  {
   "cell_type": "markdown",
   "id": "e61ef2a3-afb8-4cad-99ab-33862c2a5c74",
   "metadata": {},
   "source": [
    "<p align=\"center\">\n",
    "<img src = https://www.researchgate.net/publication/276079439/figure/fig2/AS:614187332034565@1523445079168/An-example-of-ROC-curves-with-good-AUC-09-and-satisfactory-AUC-065-parameters.png\n",
    "style=\"width:40%; border:0;\">\n",
    "</p>"
   ]
  },
  {
   "cell_type": "markdown",
   "id": "15644af0-4516-4f4b-ab86-95329b1d36d8",
   "metadata": {},
   "source": [
    "ROC curve capture more than one aspect of the classification (by taking both false positives and negatives into account) and allow visually and with low effort comparing the performance of different models."
   ]
  },
  {
   "cell_type": "markdown",
   "id": "09f197af-12df-4b50-8b7a-bfcee82ab7b1",
   "metadata": {},
   "source": [
    "### Why and how to Cross Validate a Model?"
   ]
  },
  {
   "cell_type": "markdown",
   "id": "5cc5bb49-f7a7-4ba5-a433-0806ab7b26f1",
   "metadata": {},
   "source": [
    "Once we are done with training our model, we just can’t assume that it is going to work well on data that it has not seen before. In other words, we cant be sure that the model will have the desired accuracy and variance in production environment. We need some kind of assurance of the accuracy of the predictions that our model is putting out. For this, we need to validate our model. This process of deciding whether the numerical results quantifying hypothesised relationships between variables, are acceptable as descriptions of the data, is known as validation.."
   ]
  },
  {
   "cell_type": "markdown",
   "id": "7259e399-b60c-4299-b8b7-04b16b4cb245",
   "metadata": {},
   "source": [
    "To evaluate the performance of any machine learning model we need to test it on some unseen data. Based on the models performance on unseen data we can say weather our model is Under-fitting/Over-fitting/Well generalized. Cross validation (CV) is one of the technique used to test the effectiveness of a machine learning models, it is also a re-sampling procedure used to evaluate a model if we have a limited data. To perform CV we need to keep aside a sample/portion of the data on which is not used to train the model, later use this sample for testing/validating."
   ]
  },
  {
   "cell_type": "markdown",
   "id": "665c89d4-16ca-4f18-a0fc-0e0beee60a58",
   "metadata": {},
   "source": [
    "Below are the few common techniques used for CV."
   ]
  },
  {
   "cell_type": "markdown",
   "id": "4765ae5e-e39c-42fc-a2e4-f10ba1b898f0",
   "metadata": {},
   "source": [
    "1. Train_Test Split approach"
   ]
  },
  {
   "cell_type": "markdown",
   "id": "84703a5c-cedd-468f-b3f5-c27b95a06bb4",
   "metadata": {},
   "source": [
    "In this approach we randomly split the complete data into training and test sets. Then Perform the model training on the training set and use the test set for validation purpose, ideally split the data into 70:30 or 80:20. With this approach there is a possibility of high bias if we have limited data, because we would miss some information about the data which we have not used for training. If our data is huge and our test sample and train sample has the same distribution then this approach is acceptable."
   ]
  },
  {
   "cell_type": "markdown",
   "id": "809fe912-e0d7-409c-b56c-67bf094167b3",
   "metadata": {},
   "source": [
    "We can manually split the data into train and test set using slicing or we can use the train_test_split of scikit-learn method for this task."
   ]
  },
  {
   "cell_type": "markdown",
   "id": "1476709d-f0a3-4214-89c3-125cad94c878",
   "metadata": {},
   "source": [
    "<p align=\"center\">\n",
    "<img src = https://miro.medium.com/v2/resize:fit:600/format:webp/1*n2OWaxMuMcbBkJ31_Zckxg.png \n",
    "style=\"width:30%; border:0;\">\n",
    "</p>"
   ]
  },
  {
   "cell_type": "markdown",
   "id": "064b0e4d-963c-4c55-9a83-fce86075b039",
   "metadata": {},
   "source": [
    "  ** Example from my model** \\\n",
    "X_train, X_test, y_train, y_test = train_test_split(features, encorder_target, test_size = 0.2) \n",
    "X_train.shape, X_test.shape,y_train.shape, y_test.shape\n",
    "\n",
    "((52, 4), (14, 4), (52,), (14,))"
   ]
  },
  {
   "cell_type": "markdown",
   "id": "4a23aa62-c80b-4c43-82da-ea400822a091",
   "metadata": {},
   "source": [
    "2. K-Folds Cross Validation:"
   ]
  },
  {
   "cell_type": "markdown",
   "id": "64fb68e9-2f12-4d01-b123-5ae1cb06e0e7",
   "metadata": {},
   "source": [
    "K-Folds technique is a popular and easy to understand, it generally results in a less biased model compare to other methods. Because it ensures that every observation from the original dataset has the chance of appearing in training and test set. This is one among the best approach if we have a limited input data. This method follows the below steps."
   ]
  },
  {
   "cell_type": "markdown",
   "id": "43a5b893-3061-4427-bee1-8e65284f1490",
   "metadata": {},
   "source": [
    "<p align=\"center\">\n",
    "<img src = https://miro.medium.com/v2/resize:fit:640/format:webp/1*C5FJt_NH1BWJrFSvw_6jtw.png \n",
    "style=\"width:50%; border:0;\">\n",
    "</p>"
   ]
  },
  {
   "cell_type": "markdown",
   "id": "ffba4794-6b4f-4009-8aba-30899c6b9cca",
   "metadata": {},
   "source": [
    "2.1. Split the entire data randomly into K folds (value of K shouldn’t be too small or too high, ideally we choose 5 to 10 depending on the data size). The higher value of K leads to less biased model (but large variance might lead to over-fit), where as the lower value of K is similar to the train-test split approach we saw before."
   ]
  },
  {
   "cell_type": "markdown",
   "id": "b50b5e3c-ac60-41d7-925f-25f315f3e726",
   "metadata": {},
   "source": [
    "2.2. Then fit the model using the K-1 (K minus 1) folds and validate the model using the remaining Kth fold. Note down the scores/errors."
   ]
  },
  {
   "cell_type": "markdown",
   "id": "f3ec8736-e4be-4251-a18a-8873c4da6f36",
   "metadata": {},
   "source": [
    "2.3. Repeat this process until every K-fold serve as the test set. Then take the average of your recorded scores. That will be the performance metric for the model."
   ]
  },
  {
   "cell_type": "markdown",
   "id": "4cbeaf2e-5bcb-4948-8af9-3c5b011d107b",
   "metadata": {},
   "source": [
    "We can write a logic manually to perform this or we can use the built in cross_val_score (returns score of each test folds)/corss_val_predict (returns the predicted score for each observation in the input dataset when it was part of the test set) from the scikit_learn library.\n",
    "\n",
    "If the esitmator (model) is a Claissifier and ‘y’(target variable) is either binary/multicalss, then ‘StratifiedKfold’ technique is used by default. In all other cases ‘K_Fold’ technique is used as a default to split and train the model."
   ]
  },
  {
   "cell_type": "markdown",
   "id": "50c1aa57-0765-4d6e-9a3b-4355e4f28584",
   "metadata": {},
   "source": [
    "We can write a logic manually to perform this or we can use the built in cross_val_score (returns score of each test folds)/corss_val_predict (returns the predicted score for each observation in the input dataset when it was part of the test set) from the scikit_learn library.\n",
    "\n",
    "If the esitmator (model) is a Claissifier and ‘y’(target variable) is either binary/multicalss, then ‘StratifiedKfold’ technique is used by default. In all other cases ‘K_Fold’ technique is used as a default to split and train the model."
   ]
  },
  {
   "cell_type": "markdown",
   "id": "3760849d-5461-4353-aa72-375c7f72d3c1",
   "metadata": {},
   "source": [
    "Similar to K_Fold cross-validator, StratifiedKfold returns stratified folds, i.e while making the folds it maintains the percentage of samples for each class in every fold. So that model gets equally distributed data for training/test folds.\n",
    "\n",
    "We can use the folds from K-Fold as an iterator and use it in a for loop to perform the training on a pandas dataframe. "
   ]
  },
  {
   "cell_type": "markdown",
   "id": "9b9a6ed4-8190-473b-b40a-cabfe5006514",
   "metadata": {},
   "source": [
    "#### References "
   ]
  },
  {
   "cell_type": "markdown",
   "id": "2de4d309-3715-4ebf-9385-bc8386af70ac",
   "metadata": {},
   "source": [
    "- https://www.datacamp.com/blog/classification-machine-learning \n",
    "- https://www.simplilearn.com/regression-vs-classification-in-machine-learning-article \n",
    "- https://www.techtarget.com/searchenterpriseai/definition/supervised-learning \n",
    "- https://machinelearningmastery.com/types-of-classification-in-machine-learning/\n",
    "- https://monkeylearn.com/blog/classification-algorithms/\n",
    "- https://www.javatpoint.com/linear-regression-in-machine-learning\n",
    "- https://www.ibm.com/topics/neural-networks\n",
    "- https://www.section.io/engineering-education/entropy-information-gain-machine-learning/\n",
    "- https://www.geeksforgeeks.org/underfitting-and-overfitting-in-machine-learning/\n",
    "- https://www.nomidl.com/machine-learning/what-is-upsampling-and-downsampling/\n",
    "- https://vitalflux.com/difference-binary-multi-class-multi-label-classification/\n",
    "- https://www.kdnuggets.com/2020/05/5-concepts-gradient-descent-cost-function.html\n",
    "- https://www.kdnuggets.com/2020/11/most-popular-distance-metrics-knn.html\n",
    "- https://www.linkedin.com/pulse/confusion-matrix-accuracy-precision-recall-f1-score-measures-silwal?trk=pulse-article_more-articles_related-content-card\n",
    "- https://www.displayr.com/what-is-a-roc-curve-how-to-interpret-it/\n",
    "- https://towardsdatascience.com/why-and-how-to-cross-validate-a-model-d6424b45261f"
   ]
  }
 ],
 "metadata": {
  "kernelspec": {
   "display_name": "Python 3 (ipykernel)",
   "language": "python",
   "name": "python3"
  },
  "language_info": {
   "codemirror_mode": {
    "name": "ipython",
    "version": 3
   },
   "file_extension": ".py",
   "mimetype": "text/x-python",
   "name": "python",
   "nbconvert_exporter": "python",
   "pygments_lexer": "ipython3",
   "version": "3.9.13"
  }
 },
 "nbformat": 4,
 "nbformat_minor": 5
}
